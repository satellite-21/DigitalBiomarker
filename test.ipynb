{
 "cells": [
  {
   "cell_type": "code",
   "execution_count": 1,
   "metadata": {},
   "outputs": [],
   "source": [
    "import matplotlib.pyplot as plt\n",
    "import numpy as np\n",
    "import pandas as pd\n",
    "import seaborn as sns"
   ]
  },
  {
   "cell_type": "markdown",
   "metadata": {},
   "source": [
    "Low intensity"
   ]
  },
  {
   "cell_type": "code",
   "execution_count": 2,
   "metadata": {},
   "outputs": [],
   "source": [
    "exp_crt = pd.read_csv(r'C:\\Users\\wwwKa\\OneDrive\\Desktop\\Suchetna Project\\fatigueset\\fatigueset\\01\\01\\exp_crt.csv')\n",
    "exp_nback = pd.read_csv(r'C:\\Users\\wwwKa\\OneDrive\\Desktop\\Suchetna Project\\fatigueset\\fatigueset\\01\\01\\exp_nback.csv')\n",
    "exp_task_switch = pd.read_csv(r'C:\\Users\\wwwKa\\OneDrive\\Desktop\\Suchetna Project\\fatigueset\\fatigueset\\01\\01\\exp_task_switch.csv')"
   ]
  },
  {
   "cell_type": "code",
   "execution_count": 11,
   "metadata": {},
   "outputs": [
    {
     "data": {
      "text/html": [
       "<div>\n",
       "<style scoped>\n",
       "    .dataframe tbody tr th:only-of-type {\n",
       "        vertical-align: middle;\n",
       "    }\n",
       "\n",
       "    .dataframe tbody tr th {\n",
       "        vertical-align: top;\n",
       "    }\n",
       "\n",
       "    .dataframe thead th {\n",
       "        text-align: right;\n",
       "    }\n",
       "</style>\n",
       "<table border=\"1\" class=\"dataframe\">\n",
       "  <thead>\n",
       "    <tr style=\"text-align: right;\">\n",
       "      <th></th>\n",
       "      <th>trialStartTime</th>\n",
       "      <th>stimulusStartTime</th>\n",
       "      <th>stimulusCoords</th>\n",
       "      <th>correctResponse</th>\n",
       "      <th>participantResponse</th>\n",
       "      <th>isCorrectResponse</th>\n",
       "      <th>responseTime</th>\n",
       "      <th>thisBlockTrialNumber</th>\n",
       "      <th>measurementBlock</th>\n",
       "    </tr>\n",
       "  </thead>\n",
       "  <tbody>\n",
       "    <tr>\n",
       "      <th>0</th>\n",
       "      <td>304.516051</td>\n",
       "      <td>305.768041</td>\n",
       "      <td>-0.3</td>\n",
       "      <td>z</td>\n",
       "      <td>z</td>\n",
       "      <td>1</td>\n",
       "      <td>1.963480</td>\n",
       "      <td>0</td>\n",
       "      <td>0</td>\n",
       "    </tr>\n",
       "    <tr>\n",
       "      <th>1</th>\n",
       "      <td>306.522155</td>\n",
       "      <td>307.655824</td>\n",
       "      <td>0.3</td>\n",
       "      <td>period</td>\n",
       "      <td>period</td>\n",
       "      <td>1</td>\n",
       "      <td>1.743240</td>\n",
       "      <td>1</td>\n",
       "      <td>0</td>\n",
       "    </tr>\n",
       "    <tr>\n",
       "      <th>2</th>\n",
       "      <td>308.296195</td>\n",
       "      <td>309.434437</td>\n",
       "      <td>-0.1</td>\n",
       "      <td>x</td>\n",
       "      <td>x</td>\n",
       "      <td>1</td>\n",
       "      <td>1.647171</td>\n",
       "      <td>2</td>\n",
       "      <td>0</td>\n",
       "    </tr>\n",
       "    <tr>\n",
       "      <th>3</th>\n",
       "      <td>309.983686</td>\n",
       "      <td>311.055778</td>\n",
       "      <td>0.3</td>\n",
       "      <td>period</td>\n",
       "      <td>period</td>\n",
       "      <td>1</td>\n",
       "      <td>1.531630</td>\n",
       "      <td>3</td>\n",
       "      <td>0</td>\n",
       "    </tr>\n",
       "    <tr>\n",
       "      <th>4</th>\n",
       "      <td>311.555156</td>\n",
       "      <td>312.834578</td>\n",
       "      <td>0.3</td>\n",
       "      <td>period</td>\n",
       "      <td>period</td>\n",
       "      <td>1</td>\n",
       "      <td>1.848046</td>\n",
       "      <td>4</td>\n",
       "      <td>0</td>\n",
       "    </tr>\n",
       "    <tr>\n",
       "      <th>...</th>\n",
       "      <td>...</td>\n",
       "      <td>...</td>\n",
       "      <td>...</td>\n",
       "      <td>...</td>\n",
       "      <td>...</td>\n",
       "      <td>...</td>\n",
       "      <td>...</td>\n",
       "      <td>...</td>\n",
       "      <td>...</td>\n",
       "    </tr>\n",
       "    <tr>\n",
       "      <th>103</th>\n",
       "      <td>1539.619102</td>\n",
       "      <td>1540.789110</td>\n",
       "      <td>0.3</td>\n",
       "      <td>period</td>\n",
       "      <td>period</td>\n",
       "      <td>1</td>\n",
       "      <td>1.895042</td>\n",
       "      <td>31</td>\n",
       "      <td>2</td>\n",
       "    </tr>\n",
       "    <tr>\n",
       "      <th>104</th>\n",
       "      <td>1541.550015</td>\n",
       "      <td>1542.668008</td>\n",
       "      <td>-0.3</td>\n",
       "      <td>z</td>\n",
       "      <td>z</td>\n",
       "      <td>1</td>\n",
       "      <td>1.912475</td>\n",
       "      <td>32</td>\n",
       "      <td>2</td>\n",
       "    </tr>\n",
       "    <tr>\n",
       "      <th>105</th>\n",
       "      <td>1543.497516</td>\n",
       "      <td>1544.722351</td>\n",
       "      <td>-0.1</td>\n",
       "      <td>x</td>\n",
       "      <td>x</td>\n",
       "      <td>1</td>\n",
       "      <td>1.914918</td>\n",
       "      <td>33</td>\n",
       "      <td>2</td>\n",
       "    </tr>\n",
       "    <tr>\n",
       "      <th>106</th>\n",
       "      <td>1545.453839</td>\n",
       "      <td>1546.655681</td>\n",
       "      <td>0.3</td>\n",
       "      <td>period</td>\n",
       "      <td>period</td>\n",
       "      <td>1</td>\n",
       "      <td>1.636501</td>\n",
       "      <td>34</td>\n",
       "      <td>2</td>\n",
       "    </tr>\n",
       "    <tr>\n",
       "      <th>107</th>\n",
       "      <td>1547.133139</td>\n",
       "      <td>1548.368147</td>\n",
       "      <td>-0.3</td>\n",
       "      <td>z</td>\n",
       "      <td>z</td>\n",
       "      <td>1</td>\n",
       "      <td>1.818115</td>\n",
       "      <td>35</td>\n",
       "      <td>2</td>\n",
       "    </tr>\n",
       "  </tbody>\n",
       "</table>\n",
       "<p>108 rows × 9 columns</p>\n",
       "</div>"
      ],
      "text/plain": [
       "     trialStartTime  stimulusStartTime  stimulusCoords correctResponse  \\\n",
       "0        304.516051         305.768041            -0.3               z   \n",
       "1        306.522155         307.655824             0.3          period   \n",
       "2        308.296195         309.434437            -0.1               x   \n",
       "3        309.983686         311.055778             0.3          period   \n",
       "4        311.555156         312.834578             0.3          period   \n",
       "..              ...                ...             ...             ...   \n",
       "103     1539.619102        1540.789110             0.3          period   \n",
       "104     1541.550015        1542.668008            -0.3               z   \n",
       "105     1543.497516        1544.722351            -0.1               x   \n",
       "106     1545.453839        1546.655681             0.3          period   \n",
       "107     1547.133139        1548.368147            -0.3               z   \n",
       "\n",
       "    participantResponse  isCorrectResponse  responseTime  \\\n",
       "0                     z                  1      1.963480   \n",
       "1                period                  1      1.743240   \n",
       "2                     x                  1      1.647171   \n",
       "3                period                  1      1.531630   \n",
       "4                period                  1      1.848046   \n",
       "..                  ...                ...           ...   \n",
       "103              period                  1      1.895042   \n",
       "104                   z                  1      1.912475   \n",
       "105                   x                  1      1.914918   \n",
       "106              period                  1      1.636501   \n",
       "107                   z                  1      1.818115   \n",
       "\n",
       "     thisBlockTrialNumber  measurementBlock  \n",
       "0                       0                 0  \n",
       "1                       1                 0  \n",
       "2                       2                 0  \n",
       "3                       3                 0  \n",
       "4                       4                 0  \n",
       "..                    ...               ...  \n",
       "103                    31                 2  \n",
       "104                    32                 2  \n",
       "105                    33                 2  \n",
       "106                    34                 2  \n",
       "107                    35                 2  \n",
       "\n",
       "[108 rows x 9 columns]"
      ]
     },
     "execution_count": 11,
     "metadata": {},
     "output_type": "execute_result"
    }
   ],
   "source": [
    "exp_crt"
   ]
  },
  {
   "cell_type": "code",
   "execution_count": 12,
   "metadata": {},
   "outputs": [
    {
     "data": {
      "application/vnd.plotly.v1+json": {
       "config": {
        "linkText": "Export to plot.ly",
        "plotlyServerURL": "https://plot.ly",
        "showLink": false
       },
       "data": [
        {
         "name": "time",
         "type": "scatter",
         "x": [
          304.5160508,
          306.5221555,
          308.2961952,
          309.983686,
          311.5551562,
          313.4520803,
          315.4316673,
          317.3181824,
          319.3203668,
          321.4532649,
          323.3532137,
          325.4195997,
          327.3176292,
          329.221115,
          331.4644232,
          333.4535305,
          335.0175841,
          336.8986736,
          338.7312099,
          340.9294391,
          342.6984759,
          344.2955207,
          346.5308876,
          348.6166798,
          350.7973719,
          352.4845366,
          354.2175192,
          356.0173077,
          357.5965583,
          359.6301,
          361.4305369,
          363.2508885,
          365.1310783,
          366.9159025,
          368.6654383,
          370.2861884,
          702.4391176,
          704.5444668,
          706.4592228,
          708.5560932,
          710.4000743,
          712.0742944,
          713.7260575,
          715.7568319,
          717.6793754,
          719.6255623,
          721.484246,
          723.3146708,
          725.0819791,
          726.7781753,
          728.5796617,
          730.2919839,
          732.1266032,
          733.6789795,
          735.4570478,
          737.2809839,
          739.2121908,
          740.9591782,
          742.8467218,
          744.8250382,
          746.6103674,
          749.0831071,
          751.1918846,
          752.9587027,
          755.1814978,
          756.8775253,
          758.6152244,
          760.8584728,
          762.5919933,
          764.5787483,
          766.3473452,
          768.1471522,
          1476.493424,
          1478.554465,
          1480.600045,
          1482.533996,
          1485.034089,
          1486.732911,
          1488.652407,
          1490.71888,
          1492.432204,
          1494.454152,
          1496.166661,
          1497.88559,
          1499.651396,
          1501.618815,
          1503.954092,
          1506.385565,
          1508.554061,
          1511.332529,
          1513.153956,
          1515.098738,
          1517.121662,
          1519.485237,
          1521.385555,
          1523.100189,
          1525.918433,
          1527.896955,
          1530.151838,
          1532.086545,
          1533.987689,
          1535.665974,
          1537.656192,
          1539.619102,
          1541.550015,
          1543.497516,
          1545.453839,
          1547.133139
         ],
         "y": [
          1.963480255,
          1.743240391,
          1.647171397,
          1.531630309,
          1.848045637,
          1.94402656,
          1.844353571,
          1.9527249,
          2.095568541,
          1.855732599,
          2.02951055,
          1.868008169,
          1.850395003,
          2.211501728,
          1.940897504,
          1.528742157,
          1.841599234,
          1.793445683,
          2.167783241,
          1.7275348,
          1.567305202,
          2.195224413,
          2.048768147,
          2.141915125,
          1.65706953,
          1.688809042,
          1.769773164,
          1.541061569,
          1.997619998,
          1.760998759,
          1.789475276,
          1.846057059,
          1.753781761,
          1.713850052,
          1.573291967,
          2.07043338,
          2.06872538,
          1.87442056,
          2.068592449,
          1.762473212,
          1.63755912,
          1.613249558,
          2.001298155,
          1.882451243,
          1.907968045,
          1.815557062,
          1.789960281,
          1.727252055,
          1.664088624,
          1.752680356,
          1.675274579,
          1.792706057,
          1.521958637,
          1.746731756,
          1.774310201,
          1.887528423,
          1.709109462,
          1.840025218,
          1.941508842,
          1.752133728,
          2.422877057,
          2.076754072,
          1.734855496,
          2.18300068,
          1.655123801,
          1.686178334,
          2.209219735,
          1.701991333,
          1.955493706,
          1.729367681,
          1.762766741,
          1.987858247,
          2.02876697,
          2.012691481,
          1.892023702,
          2.460009714,
          1.662740243,
          1.886913188,
          2.023306642,
          1.681764578,
          1.983366009,
          1.676465333,
          1.67779725,
          1.725794849,
          1.933958227,
          2.299370723,
          2.387014949,
          2.120425968,
          2.739916865,
          1.78835518,
          1.912712505,
          1.982805096,
          2.321944333,
          1.86331588,
          1.676775577,
          2.775069823,
          1.949736116,
          2.220188254,
          1.895245428,
          1.852307909,
          1.645045758,
          1.939820315,
          1.926529129,
          1.895041749,
          1.912474971,
          1.914918307,
          1.636501118,
          1.818114633
         ]
        }
       ],
       "layout": {
        "template": {
         "data": {
          "bar": [
           {
            "error_x": {
             "color": "#2a3f5f"
            },
            "error_y": {
             "color": "#2a3f5f"
            },
            "marker": {
             "line": {
              "color": "#E5ECF6",
              "width": 0.5
             },
             "pattern": {
              "fillmode": "overlay",
              "size": 10,
              "solidity": 0.2
             }
            },
            "type": "bar"
           }
          ],
          "barpolar": [
           {
            "marker": {
             "line": {
              "color": "#E5ECF6",
              "width": 0.5
             },
             "pattern": {
              "fillmode": "overlay",
              "size": 10,
              "solidity": 0.2
             }
            },
            "type": "barpolar"
           }
          ],
          "carpet": [
           {
            "aaxis": {
             "endlinecolor": "#2a3f5f",
             "gridcolor": "white",
             "linecolor": "white",
             "minorgridcolor": "white",
             "startlinecolor": "#2a3f5f"
            },
            "baxis": {
             "endlinecolor": "#2a3f5f",
             "gridcolor": "white",
             "linecolor": "white",
             "minorgridcolor": "white",
             "startlinecolor": "#2a3f5f"
            },
            "type": "carpet"
           }
          ],
          "choropleth": [
           {
            "colorbar": {
             "outlinewidth": 0,
             "ticks": ""
            },
            "type": "choropleth"
           }
          ],
          "contour": [
           {
            "colorbar": {
             "outlinewidth": 0,
             "ticks": ""
            },
            "colorscale": [
             [
              0,
              "#0d0887"
             ],
             [
              0.1111111111111111,
              "#46039f"
             ],
             [
              0.2222222222222222,
              "#7201a8"
             ],
             [
              0.3333333333333333,
              "#9c179e"
             ],
             [
              0.4444444444444444,
              "#bd3786"
             ],
             [
              0.5555555555555556,
              "#d8576b"
             ],
             [
              0.6666666666666666,
              "#ed7953"
             ],
             [
              0.7777777777777778,
              "#fb9f3a"
             ],
             [
              0.8888888888888888,
              "#fdca26"
             ],
             [
              1,
              "#f0f921"
             ]
            ],
            "type": "contour"
           }
          ],
          "contourcarpet": [
           {
            "colorbar": {
             "outlinewidth": 0,
             "ticks": ""
            },
            "type": "contourcarpet"
           }
          ],
          "heatmap": [
           {
            "colorbar": {
             "outlinewidth": 0,
             "ticks": ""
            },
            "colorscale": [
             [
              0,
              "#0d0887"
             ],
             [
              0.1111111111111111,
              "#46039f"
             ],
             [
              0.2222222222222222,
              "#7201a8"
             ],
             [
              0.3333333333333333,
              "#9c179e"
             ],
             [
              0.4444444444444444,
              "#bd3786"
             ],
             [
              0.5555555555555556,
              "#d8576b"
             ],
             [
              0.6666666666666666,
              "#ed7953"
             ],
             [
              0.7777777777777778,
              "#fb9f3a"
             ],
             [
              0.8888888888888888,
              "#fdca26"
             ],
             [
              1,
              "#f0f921"
             ]
            ],
            "type": "heatmap"
           }
          ],
          "heatmapgl": [
           {
            "colorbar": {
             "outlinewidth": 0,
             "ticks": ""
            },
            "colorscale": [
             [
              0,
              "#0d0887"
             ],
             [
              0.1111111111111111,
              "#46039f"
             ],
             [
              0.2222222222222222,
              "#7201a8"
             ],
             [
              0.3333333333333333,
              "#9c179e"
             ],
             [
              0.4444444444444444,
              "#bd3786"
             ],
             [
              0.5555555555555556,
              "#d8576b"
             ],
             [
              0.6666666666666666,
              "#ed7953"
             ],
             [
              0.7777777777777778,
              "#fb9f3a"
             ],
             [
              0.8888888888888888,
              "#fdca26"
             ],
             [
              1,
              "#f0f921"
             ]
            ],
            "type": "heatmapgl"
           }
          ],
          "histogram": [
           {
            "marker": {
             "pattern": {
              "fillmode": "overlay",
              "size": 10,
              "solidity": 0.2
             }
            },
            "type": "histogram"
           }
          ],
          "histogram2d": [
           {
            "colorbar": {
             "outlinewidth": 0,
             "ticks": ""
            },
            "colorscale": [
             [
              0,
              "#0d0887"
             ],
             [
              0.1111111111111111,
              "#46039f"
             ],
             [
              0.2222222222222222,
              "#7201a8"
             ],
             [
              0.3333333333333333,
              "#9c179e"
             ],
             [
              0.4444444444444444,
              "#bd3786"
             ],
             [
              0.5555555555555556,
              "#d8576b"
             ],
             [
              0.6666666666666666,
              "#ed7953"
             ],
             [
              0.7777777777777778,
              "#fb9f3a"
             ],
             [
              0.8888888888888888,
              "#fdca26"
             ],
             [
              1,
              "#f0f921"
             ]
            ],
            "type": "histogram2d"
           }
          ],
          "histogram2dcontour": [
           {
            "colorbar": {
             "outlinewidth": 0,
             "ticks": ""
            },
            "colorscale": [
             [
              0,
              "#0d0887"
             ],
             [
              0.1111111111111111,
              "#46039f"
             ],
             [
              0.2222222222222222,
              "#7201a8"
             ],
             [
              0.3333333333333333,
              "#9c179e"
             ],
             [
              0.4444444444444444,
              "#bd3786"
             ],
             [
              0.5555555555555556,
              "#d8576b"
             ],
             [
              0.6666666666666666,
              "#ed7953"
             ],
             [
              0.7777777777777778,
              "#fb9f3a"
             ],
             [
              0.8888888888888888,
              "#fdca26"
             ],
             [
              1,
              "#f0f921"
             ]
            ],
            "type": "histogram2dcontour"
           }
          ],
          "mesh3d": [
           {
            "colorbar": {
             "outlinewidth": 0,
             "ticks": ""
            },
            "type": "mesh3d"
           }
          ],
          "parcoords": [
           {
            "line": {
             "colorbar": {
              "outlinewidth": 0,
              "ticks": ""
             }
            },
            "type": "parcoords"
           }
          ],
          "pie": [
           {
            "automargin": true,
            "type": "pie"
           }
          ],
          "scatter": [
           {
            "fillpattern": {
             "fillmode": "overlay",
             "size": 10,
             "solidity": 0.2
            },
            "type": "scatter"
           }
          ],
          "scatter3d": [
           {
            "line": {
             "colorbar": {
              "outlinewidth": 0,
              "ticks": ""
             }
            },
            "marker": {
             "colorbar": {
              "outlinewidth": 0,
              "ticks": ""
             }
            },
            "type": "scatter3d"
           }
          ],
          "scattercarpet": [
           {
            "marker": {
             "colorbar": {
              "outlinewidth": 0,
              "ticks": ""
             }
            },
            "type": "scattercarpet"
           }
          ],
          "scattergeo": [
           {
            "marker": {
             "colorbar": {
              "outlinewidth": 0,
              "ticks": ""
             }
            },
            "type": "scattergeo"
           }
          ],
          "scattergl": [
           {
            "marker": {
             "colorbar": {
              "outlinewidth": 0,
              "ticks": ""
             }
            },
            "type": "scattergl"
           }
          ],
          "scattermapbox": [
           {
            "marker": {
             "colorbar": {
              "outlinewidth": 0,
              "ticks": ""
             }
            },
            "type": "scattermapbox"
           }
          ],
          "scatterpolar": [
           {
            "marker": {
             "colorbar": {
              "outlinewidth": 0,
              "ticks": ""
             }
            },
            "type": "scatterpolar"
           }
          ],
          "scatterpolargl": [
           {
            "marker": {
             "colorbar": {
              "outlinewidth": 0,
              "ticks": ""
             }
            },
            "type": "scatterpolargl"
           }
          ],
          "scatterternary": [
           {
            "marker": {
             "colorbar": {
              "outlinewidth": 0,
              "ticks": ""
             }
            },
            "type": "scatterternary"
           }
          ],
          "surface": [
           {
            "colorbar": {
             "outlinewidth": 0,
             "ticks": ""
            },
            "colorscale": [
             [
              0,
              "#0d0887"
             ],
             [
              0.1111111111111111,
              "#46039f"
             ],
             [
              0.2222222222222222,
              "#7201a8"
             ],
             [
              0.3333333333333333,
              "#9c179e"
             ],
             [
              0.4444444444444444,
              "#bd3786"
             ],
             [
              0.5555555555555556,
              "#d8576b"
             ],
             [
              0.6666666666666666,
              "#ed7953"
             ],
             [
              0.7777777777777778,
              "#fb9f3a"
             ],
             [
              0.8888888888888888,
              "#fdca26"
             ],
             [
              1,
              "#f0f921"
             ]
            ],
            "type": "surface"
           }
          ],
          "table": [
           {
            "cells": {
             "fill": {
              "color": "#EBF0F8"
             },
             "line": {
              "color": "white"
             }
            },
            "header": {
             "fill": {
              "color": "#C8D4E3"
             },
             "line": {
              "color": "white"
             }
            },
            "type": "table"
           }
          ]
         },
         "layout": {
          "annotationdefaults": {
           "arrowcolor": "#2a3f5f",
           "arrowhead": 0,
           "arrowwidth": 1
          },
          "autotypenumbers": "strict",
          "coloraxis": {
           "colorbar": {
            "outlinewidth": 0,
            "ticks": ""
           }
          },
          "colorscale": {
           "diverging": [
            [
             0,
             "#8e0152"
            ],
            [
             0.1,
             "#c51b7d"
            ],
            [
             0.2,
             "#de77ae"
            ],
            [
             0.3,
             "#f1b6da"
            ],
            [
             0.4,
             "#fde0ef"
            ],
            [
             0.5,
             "#f7f7f7"
            ],
            [
             0.6,
             "#e6f5d0"
            ],
            [
             0.7,
             "#b8e186"
            ],
            [
             0.8,
             "#7fbc41"
            ],
            [
             0.9,
             "#4d9221"
            ],
            [
             1,
             "#276419"
            ]
           ],
           "sequential": [
            [
             0,
             "#0d0887"
            ],
            [
             0.1111111111111111,
             "#46039f"
            ],
            [
             0.2222222222222222,
             "#7201a8"
            ],
            [
             0.3333333333333333,
             "#9c179e"
            ],
            [
             0.4444444444444444,
             "#bd3786"
            ],
            [
             0.5555555555555556,
             "#d8576b"
            ],
            [
             0.6666666666666666,
             "#ed7953"
            ],
            [
             0.7777777777777778,
             "#fb9f3a"
            ],
            [
             0.8888888888888888,
             "#fdca26"
            ],
            [
             1,
             "#f0f921"
            ]
           ],
           "sequentialminus": [
            [
             0,
             "#0d0887"
            ],
            [
             0.1111111111111111,
             "#46039f"
            ],
            [
             0.2222222222222222,
             "#7201a8"
            ],
            [
             0.3333333333333333,
             "#9c179e"
            ],
            [
             0.4444444444444444,
             "#bd3786"
            ],
            [
             0.5555555555555556,
             "#d8576b"
            ],
            [
             0.6666666666666666,
             "#ed7953"
            ],
            [
             0.7777777777777778,
             "#fb9f3a"
            ],
            [
             0.8888888888888888,
             "#fdca26"
            ],
            [
             1,
             "#f0f921"
            ]
           ]
          },
          "colorway": [
           "#636efa",
           "#EF553B",
           "#00cc96",
           "#ab63fa",
           "#FFA15A",
           "#19d3f3",
           "#FF6692",
           "#B6E880",
           "#FF97FF",
           "#FECB52"
          ],
          "font": {
           "color": "#2a3f5f"
          },
          "geo": {
           "bgcolor": "white",
           "lakecolor": "white",
           "landcolor": "#E5ECF6",
           "showlakes": true,
           "showland": true,
           "subunitcolor": "white"
          },
          "hoverlabel": {
           "align": "left"
          },
          "hovermode": "closest",
          "mapbox": {
           "style": "light"
          },
          "paper_bgcolor": "white",
          "plot_bgcolor": "#E5ECF6",
          "polar": {
           "angularaxis": {
            "gridcolor": "white",
            "linecolor": "white",
            "ticks": ""
           },
           "bgcolor": "#E5ECF6",
           "radialaxis": {
            "gridcolor": "white",
            "linecolor": "white",
            "ticks": ""
           }
          },
          "scene": {
           "xaxis": {
            "backgroundcolor": "#E5ECF6",
            "gridcolor": "white",
            "gridwidth": 2,
            "linecolor": "white",
            "showbackground": true,
            "ticks": "",
            "zerolinecolor": "white"
           },
           "yaxis": {
            "backgroundcolor": "#E5ECF6",
            "gridcolor": "white",
            "gridwidth": 2,
            "linecolor": "white",
            "showbackground": true,
            "ticks": "",
            "zerolinecolor": "white"
           },
           "zaxis": {
            "backgroundcolor": "#E5ECF6",
            "gridcolor": "white",
            "gridwidth": 2,
            "linecolor": "white",
            "showbackground": true,
            "ticks": "",
            "zerolinecolor": "white"
           }
          },
          "shapedefaults": {
           "line": {
            "color": "#2a3f5f"
           }
          },
          "ternary": {
           "aaxis": {
            "gridcolor": "white",
            "linecolor": "white",
            "ticks": ""
           },
           "baxis": {
            "gridcolor": "white",
            "linecolor": "white",
            "ticks": ""
           },
           "bgcolor": "#E5ECF6",
           "caxis": {
            "gridcolor": "white",
            "linecolor": "white",
            "ticks": ""
           }
          },
          "title": {
           "x": 0.05
          },
          "xaxis": {
           "automargin": true,
           "gridcolor": "white",
           "linecolor": "white",
           "ticks": "",
           "title": {
            "standoff": 15
           },
           "zerolinecolor": "white",
           "zerolinewidth": 2
          },
          "yaxis": {
           "automargin": true,
           "gridcolor": "white",
           "linecolor": "white",
           "ticks": "",
           "title": {
            "standoff": 15
           },
           "zerolinecolor": "white",
           "zerolinewidth": 2
          }
         }
        }
       }
      }
     },
     "metadata": {},
     "output_type": "display_data"
    }
   ],
   "source": [
    "import plotly.offline as py\n",
    "import plotly.graph_objs as go\n",
    "view = go.Scatter(x=exp_crt['trialStartTime'], y=exp_crt['responseTime'], name= 'time')\n",
    "py.iplot([view])"
   ]
  },
  {
   "cell_type": "code",
   "execution_count": 18,
   "metadata": {},
   "outputs": [],
   "source": [
    "exp_nback.fillna(0, inplace=True)"
   ]
  },
  {
   "cell_type": "code",
   "execution_count": 20,
   "metadata": {},
   "outputs": [
    {
     "data": {
      "text/html": [
       "<div>\n",
       "<style scoped>\n",
       "    .dataframe tbody tr th:only-of-type {\n",
       "        vertical-align: middle;\n",
       "    }\n",
       "\n",
       "    .dataframe tbody tr th {\n",
       "        vertical-align: top;\n",
       "    }\n",
       "\n",
       "    .dataframe thead th {\n",
       "        text-align: right;\n",
       "    }\n",
       "</style>\n",
       "<table border=\"1\" class=\"dataframe\">\n",
       "  <thead>\n",
       "    <tr style=\"text-align: right;\">\n",
       "      <th></th>\n",
       "      <th>trialStartTime</th>\n",
       "      <th>trialEndTime</th>\n",
       "      <th>stimulus</th>\n",
       "      <th>correctResponse</th>\n",
       "      <th>participantResponse</th>\n",
       "      <th>isCorrectResponse</th>\n",
       "      <th>responseTime</th>\n",
       "      <th>thisBlockTrialNumber</th>\n",
       "      <th>measurementBlock</th>\n",
       "    </tr>\n",
       "  </thead>\n",
       "  <tbody>\n",
       "    <tr>\n",
       "      <th>0</th>\n",
       "      <td>417.513504</td>\n",
       "      <td>418.026661</td>\n",
       "      <td>K</td>\n",
       "      <td>None</td>\n",
       "      <td>None</td>\n",
       "      <td>1</td>\n",
       "      <td>0.000000</td>\n",
       "      <td>0</td>\n",
       "      <td>0</td>\n",
       "    </tr>\n",
       "    <tr>\n",
       "      <th>1</th>\n",
       "      <td>420.019954</td>\n",
       "      <td>420.533970</td>\n",
       "      <td>R</td>\n",
       "      <td>None</td>\n",
       "      <td>None</td>\n",
       "      <td>1</td>\n",
       "      <td>0.000000</td>\n",
       "      <td>1</td>\n",
       "      <td>0</td>\n",
       "    </tr>\n",
       "    <tr>\n",
       "      <th>2</th>\n",
       "      <td>422.520075</td>\n",
       "      <td>423.033668</td>\n",
       "      <td>B</td>\n",
       "      <td>None</td>\n",
       "      <td>None</td>\n",
       "      <td>1</td>\n",
       "      <td>0.000000</td>\n",
       "      <td>2</td>\n",
       "      <td>0</td>\n",
       "    </tr>\n",
       "    <tr>\n",
       "      <th>3</th>\n",
       "      <td>425.019869</td>\n",
       "      <td>425.533765</td>\n",
       "      <td>H</td>\n",
       "      <td>None</td>\n",
       "      <td>None</td>\n",
       "      <td>1</td>\n",
       "      <td>0.000000</td>\n",
       "      <td>3</td>\n",
       "      <td>0</td>\n",
       "    </tr>\n",
       "    <tr>\n",
       "      <th>4</th>\n",
       "      <td>427.519824</td>\n",
       "      <td>428.033656</td>\n",
       "      <td>B</td>\n",
       "      <td>m</td>\n",
       "      <td>m</td>\n",
       "      <td>1</td>\n",
       "      <td>1.325266</td>\n",
       "      <td>4</td>\n",
       "      <td>0</td>\n",
       "    </tr>\n",
       "    <tr>\n",
       "      <th>5</th>\n",
       "      <td>430.020067</td>\n",
       "      <td>430.533564</td>\n",
       "      <td>X</td>\n",
       "      <td>None</td>\n",
       "      <td>None</td>\n",
       "      <td>1</td>\n",
       "      <td>0.000000</td>\n",
       "      <td>5</td>\n",
       "      <td>0</td>\n",
       "    </tr>\n",
       "    <tr>\n",
       "      <th>6</th>\n",
       "      <td>432.519740</td>\n",
       "      <td>433.033591</td>\n",
       "      <td>F</td>\n",
       "      <td>None</td>\n",
       "      <td>None</td>\n",
       "      <td>1</td>\n",
       "      <td>0.000000</td>\n",
       "      <td>6</td>\n",
       "      <td>0</td>\n",
       "    </tr>\n",
       "    <tr>\n",
       "      <th>7</th>\n",
       "      <td>435.020185</td>\n",
       "      <td>435.533494</td>\n",
       "      <td>Q</td>\n",
       "      <td>None</td>\n",
       "      <td>None</td>\n",
       "      <td>1</td>\n",
       "      <td>0.000000</td>\n",
       "      <td>7</td>\n",
       "      <td>0</td>\n",
       "    </tr>\n",
       "    <tr>\n",
       "      <th>8</th>\n",
       "      <td>437.520203</td>\n",
       "      <td>438.033444</td>\n",
       "      <td>M</td>\n",
       "      <td>None</td>\n",
       "      <td>None</td>\n",
       "      <td>1</td>\n",
       "      <td>0.000000</td>\n",
       "      <td>8</td>\n",
       "      <td>0</td>\n",
       "    </tr>\n",
       "    <tr>\n",
       "      <th>9</th>\n",
       "      <td>440.018598</td>\n",
       "      <td>440.533452</td>\n",
       "      <td>Q</td>\n",
       "      <td>m</td>\n",
       "      <td>m</td>\n",
       "      <td>1</td>\n",
       "      <td>0.619826</td>\n",
       "      <td>9</td>\n",
       "      <td>0</td>\n",
       "    </tr>\n",
       "    <tr>\n",
       "      <th>10</th>\n",
       "      <td>442.519560</td>\n",
       "      <td>443.033552</td>\n",
       "      <td>H</td>\n",
       "      <td>None</td>\n",
       "      <td>None</td>\n",
       "      <td>1</td>\n",
       "      <td>0.000000</td>\n",
       "      <td>10</td>\n",
       "      <td>0</td>\n",
       "    </tr>\n",
       "    <tr>\n",
       "      <th>11</th>\n",
       "      <td>445.019738</td>\n",
       "      <td>445.533455</td>\n",
       "      <td>R</td>\n",
       "      <td>None</td>\n",
       "      <td>None</td>\n",
       "      <td>1</td>\n",
       "      <td>0.000000</td>\n",
       "      <td>11</td>\n",
       "      <td>0</td>\n",
       "    </tr>\n",
       "    <tr>\n",
       "      <th>12</th>\n",
       "      <td>447.519832</td>\n",
       "      <td>448.033320</td>\n",
       "      <td>Q</td>\n",
       "      <td>None</td>\n",
       "      <td>None</td>\n",
       "      <td>1</td>\n",
       "      <td>0.000000</td>\n",
       "      <td>12</td>\n",
       "      <td>0</td>\n",
       "    </tr>\n",
       "    <tr>\n",
       "      <th>13</th>\n",
       "      <td>450.019745</td>\n",
       "      <td>450.532372</td>\n",
       "      <td>F</td>\n",
       "      <td>None</td>\n",
       "      <td>None</td>\n",
       "      <td>1</td>\n",
       "      <td>0.000000</td>\n",
       "      <td>13</td>\n",
       "      <td>0</td>\n",
       "    </tr>\n",
       "    <tr>\n",
       "      <th>14</th>\n",
       "      <td>452.519583</td>\n",
       "      <td>453.033296</td>\n",
       "      <td>B</td>\n",
       "      <td>None</td>\n",
       "      <td>None</td>\n",
       "      <td>1</td>\n",
       "      <td>0.000000</td>\n",
       "      <td>14</td>\n",
       "      <td>0</td>\n",
       "    </tr>\n",
       "    <tr>\n",
       "      <th>15</th>\n",
       "      <td>455.019746</td>\n",
       "      <td>455.533281</td>\n",
       "      <td>F</td>\n",
       "      <td>m</td>\n",
       "      <td>None</td>\n",
       "      <td>0</td>\n",
       "      <td>0.000000</td>\n",
       "      <td>15</td>\n",
       "      <td>0</td>\n",
       "    </tr>\n",
       "    <tr>\n",
       "      <th>16</th>\n",
       "      <td>457.519648</td>\n",
       "      <td>458.033274</td>\n",
       "      <td>K</td>\n",
       "      <td>None</td>\n",
       "      <td>None</td>\n",
       "      <td>1</td>\n",
       "      <td>0.000000</td>\n",
       "      <td>16</td>\n",
       "      <td>0</td>\n",
       "    </tr>\n",
       "    <tr>\n",
       "      <th>17</th>\n",
       "      <td>460.019466</td>\n",
       "      <td>460.533224</td>\n",
       "      <td>X</td>\n",
       "      <td>None</td>\n",
       "      <td>None</td>\n",
       "      <td>1</td>\n",
       "      <td>0.000000</td>\n",
       "      <td>17</td>\n",
       "      <td>0</td>\n",
       "    </tr>\n",
       "    <tr>\n",
       "      <th>18</th>\n",
       "      <td>462.519452</td>\n",
       "      <td>463.033123</td>\n",
       "      <td>K</td>\n",
       "      <td>m</td>\n",
       "      <td>m</td>\n",
       "      <td>1</td>\n",
       "      <td>0.438049</td>\n",
       "      <td>18</td>\n",
       "      <td>0</td>\n",
       "    </tr>\n",
       "    <tr>\n",
       "      <th>19</th>\n",
       "      <td>465.019393</td>\n",
       "      <td>465.533150</td>\n",
       "      <td>M</td>\n",
       "      <td>None</td>\n",
       "      <td>None</td>\n",
       "      <td>1</td>\n",
       "      <td>0.000000</td>\n",
       "      <td>19</td>\n",
       "      <td>0</td>\n",
       "    </tr>\n",
       "    <tr>\n",
       "      <th>20</th>\n",
       "      <td>788.323325</td>\n",
       "      <td>788.828738</td>\n",
       "      <td>B</td>\n",
       "      <td>None</td>\n",
       "      <td>None</td>\n",
       "      <td>1</td>\n",
       "      <td>0.000000</td>\n",
       "      <td>0</td>\n",
       "      <td>1</td>\n",
       "    </tr>\n",
       "    <tr>\n",
       "      <th>21</th>\n",
       "      <td>790.831036</td>\n",
       "      <td>791.328843</td>\n",
       "      <td>M</td>\n",
       "      <td>None</td>\n",
       "      <td>None</td>\n",
       "      <td>1</td>\n",
       "      <td>0.000000</td>\n",
       "      <td>1</td>\n",
       "      <td>1</td>\n",
       "    </tr>\n",
       "    <tr>\n",
       "      <th>22</th>\n",
       "      <td>793.329923</td>\n",
       "      <td>793.828787</td>\n",
       "      <td>F</td>\n",
       "      <td>None</td>\n",
       "      <td>None</td>\n",
       "      <td>1</td>\n",
       "      <td>0.000000</td>\n",
       "      <td>2</td>\n",
       "      <td>1</td>\n",
       "    </tr>\n",
       "    <tr>\n",
       "      <th>23</th>\n",
       "      <td>795.831684</td>\n",
       "      <td>796.328654</td>\n",
       "      <td>R</td>\n",
       "      <td>None</td>\n",
       "      <td>None</td>\n",
       "      <td>1</td>\n",
       "      <td>0.000000</td>\n",
       "      <td>3</td>\n",
       "      <td>1</td>\n",
       "    </tr>\n",
       "    <tr>\n",
       "      <th>24</th>\n",
       "      <td>798.342754</td>\n",
       "      <td>798.849120</td>\n",
       "      <td>H</td>\n",
       "      <td>None</td>\n",
       "      <td>None</td>\n",
       "      <td>1</td>\n",
       "      <td>0.000000</td>\n",
       "      <td>4</td>\n",
       "      <td>1</td>\n",
       "    </tr>\n",
       "    <tr>\n",
       "      <th>25</th>\n",
       "      <td>800.831429</td>\n",
       "      <td>801.328597</td>\n",
       "      <td>R</td>\n",
       "      <td>m</td>\n",
       "      <td>m</td>\n",
       "      <td>1</td>\n",
       "      <td>0.391921</td>\n",
       "      <td>5</td>\n",
       "      <td>1</td>\n",
       "    </tr>\n",
       "    <tr>\n",
       "      <th>26</th>\n",
       "      <td>803.331295</td>\n",
       "      <td>803.832345</td>\n",
       "      <td>K</td>\n",
       "      <td>None</td>\n",
       "      <td>None</td>\n",
       "      <td>1</td>\n",
       "      <td>0.000000</td>\n",
       "      <td>6</td>\n",
       "      <td>1</td>\n",
       "    </tr>\n",
       "    <tr>\n",
       "      <th>27</th>\n",
       "      <td>805.831935</td>\n",
       "      <td>806.328532</td>\n",
       "      <td>Q</td>\n",
       "      <td>None</td>\n",
       "      <td>None</td>\n",
       "      <td>1</td>\n",
       "      <td>0.000000</td>\n",
       "      <td>7</td>\n",
       "      <td>1</td>\n",
       "    </tr>\n",
       "    <tr>\n",
       "      <th>28</th>\n",
       "      <td>808.331350</td>\n",
       "      <td>808.828579</td>\n",
       "      <td>X</td>\n",
       "      <td>None</td>\n",
       "      <td>None</td>\n",
       "      <td>1</td>\n",
       "      <td>0.000000</td>\n",
       "      <td>8</td>\n",
       "      <td>1</td>\n",
       "    </tr>\n",
       "    <tr>\n",
       "      <th>29</th>\n",
       "      <td>810.831345</td>\n",
       "      <td>811.328425</td>\n",
       "      <td>M</td>\n",
       "      <td>None</td>\n",
       "      <td>None</td>\n",
       "      <td>1</td>\n",
       "      <td>0.000000</td>\n",
       "      <td>9</td>\n",
       "      <td>1</td>\n",
       "    </tr>\n",
       "    <tr>\n",
       "      <th>30</th>\n",
       "      <td>813.331547</td>\n",
       "      <td>813.849006</td>\n",
       "      <td>Q</td>\n",
       "      <td>None</td>\n",
       "      <td>m</td>\n",
       "      <td>0</td>\n",
       "      <td>0.546742</td>\n",
       "      <td>10</td>\n",
       "      <td>1</td>\n",
       "    </tr>\n",
       "    <tr>\n",
       "      <th>31</th>\n",
       "      <td>815.830606</td>\n",
       "      <td>816.328426</td>\n",
       "      <td>M</td>\n",
       "      <td>m</td>\n",
       "      <td>m</td>\n",
       "      <td>1</td>\n",
       "      <td>1.020085</td>\n",
       "      <td>11</td>\n",
       "      <td>1</td>\n",
       "    </tr>\n",
       "    <tr>\n",
       "      <th>32</th>\n",
       "      <td>818.330565</td>\n",
       "      <td>818.828388</td>\n",
       "      <td>K</td>\n",
       "      <td>None</td>\n",
       "      <td>None</td>\n",
       "      <td>1</td>\n",
       "      <td>0.000000</td>\n",
       "      <td>12</td>\n",
       "      <td>1</td>\n",
       "    </tr>\n",
       "    <tr>\n",
       "      <th>33</th>\n",
       "      <td>820.830521</td>\n",
       "      <td>821.328375</td>\n",
       "      <td>R</td>\n",
       "      <td>None</td>\n",
       "      <td>None</td>\n",
       "      <td>1</td>\n",
       "      <td>0.000000</td>\n",
       "      <td>13</td>\n",
       "      <td>1</td>\n",
       "    </tr>\n",
       "    <tr>\n",
       "      <th>34</th>\n",
       "      <td>823.331354</td>\n",
       "      <td>823.828375</td>\n",
       "      <td>X</td>\n",
       "      <td>None</td>\n",
       "      <td>None</td>\n",
       "      <td>1</td>\n",
       "      <td>0.000000</td>\n",
       "      <td>14</td>\n",
       "      <td>1</td>\n",
       "    </tr>\n",
       "    <tr>\n",
       "      <th>35</th>\n",
       "      <td>825.830486</td>\n",
       "      <td>826.328363</td>\n",
       "      <td>B</td>\n",
       "      <td>None</td>\n",
       "      <td>None</td>\n",
       "      <td>1</td>\n",
       "      <td>0.000000</td>\n",
       "      <td>15</td>\n",
       "      <td>1</td>\n",
       "    </tr>\n",
       "    <tr>\n",
       "      <th>36</th>\n",
       "      <td>828.330414</td>\n",
       "      <td>828.828203</td>\n",
       "      <td>X</td>\n",
       "      <td>m</td>\n",
       "      <td>m</td>\n",
       "      <td>1</td>\n",
       "      <td>0.559008</td>\n",
       "      <td>16</td>\n",
       "      <td>1</td>\n",
       "    </tr>\n",
       "    <tr>\n",
       "      <th>37</th>\n",
       "      <td>830.830286</td>\n",
       "      <td>831.328203</td>\n",
       "      <td>H</td>\n",
       "      <td>None</td>\n",
       "      <td>None</td>\n",
       "      <td>1</td>\n",
       "      <td>0.000000</td>\n",
       "      <td>17</td>\n",
       "      <td>1</td>\n",
       "    </tr>\n",
       "    <tr>\n",
       "      <th>38</th>\n",
       "      <td>833.330382</td>\n",
       "      <td>833.828130</td>\n",
       "      <td>F</td>\n",
       "      <td>None</td>\n",
       "      <td>None</td>\n",
       "      <td>1</td>\n",
       "      <td>0.000000</td>\n",
       "      <td>18</td>\n",
       "      <td>1</td>\n",
       "    </tr>\n",
       "    <tr>\n",
       "      <th>39</th>\n",
       "      <td>835.831028</td>\n",
       "      <td>836.328392</td>\n",
       "      <td>H</td>\n",
       "      <td>m</td>\n",
       "      <td>None</td>\n",
       "      <td>0</td>\n",
       "      <td>0.000000</td>\n",
       "      <td>19</td>\n",
       "      <td>1</td>\n",
       "    </tr>\n",
       "    <tr>\n",
       "      <th>40</th>\n",
       "      <td>1561.196300</td>\n",
       "      <td>1561.701800</td>\n",
       "      <td>X</td>\n",
       "      <td>None</td>\n",
       "      <td>None</td>\n",
       "      <td>1</td>\n",
       "      <td>0.000000</td>\n",
       "      <td>0</td>\n",
       "      <td>2</td>\n",
       "    </tr>\n",
       "    <tr>\n",
       "      <th>41</th>\n",
       "      <td>1563.688500</td>\n",
       "      <td>1564.201700</td>\n",
       "      <td>M</td>\n",
       "      <td>None</td>\n",
       "      <td>None</td>\n",
       "      <td>1</td>\n",
       "      <td>0.000000</td>\n",
       "      <td>1</td>\n",
       "      <td>2</td>\n",
       "    </tr>\n",
       "    <tr>\n",
       "      <th>42</th>\n",
       "      <td>1566.203900</td>\n",
       "      <td>1566.701600</td>\n",
       "      <td>Q</td>\n",
       "      <td>None</td>\n",
       "      <td>None</td>\n",
       "      <td>1</td>\n",
       "      <td>0.000000</td>\n",
       "      <td>2</td>\n",
       "      <td>2</td>\n",
       "    </tr>\n",
       "    <tr>\n",
       "      <th>43</th>\n",
       "      <td>1568.687800</td>\n",
       "      <td>1569.201600</td>\n",
       "      <td>R</td>\n",
       "      <td>None</td>\n",
       "      <td>None</td>\n",
       "      <td>1</td>\n",
       "      <td>0.000000</td>\n",
       "      <td>3</td>\n",
       "      <td>2</td>\n",
       "    </tr>\n",
       "    <tr>\n",
       "      <th>44</th>\n",
       "      <td>1571.203500</td>\n",
       "      <td>1571.701500</td>\n",
       "      <td>B</td>\n",
       "      <td>None</td>\n",
       "      <td>None</td>\n",
       "      <td>1</td>\n",
       "      <td>0.000000</td>\n",
       "      <td>4</td>\n",
       "      <td>2</td>\n",
       "    </tr>\n",
       "    <tr>\n",
       "      <th>45</th>\n",
       "      <td>1573.703700</td>\n",
       "      <td>1574.201500</td>\n",
       "      <td>H</td>\n",
       "      <td>None</td>\n",
       "      <td>None</td>\n",
       "      <td>1</td>\n",
       "      <td>0.000000</td>\n",
       "      <td>5</td>\n",
       "      <td>2</td>\n",
       "    </tr>\n",
       "    <tr>\n",
       "      <th>46</th>\n",
       "      <td>1576.204600</td>\n",
       "      <td>1576.701500</td>\n",
       "      <td>B</td>\n",
       "      <td>m</td>\n",
       "      <td>m</td>\n",
       "      <td>1</td>\n",
       "      <td>0.932100</td>\n",
       "      <td>6</td>\n",
       "      <td>2</td>\n",
       "    </tr>\n",
       "    <tr>\n",
       "      <th>47</th>\n",
       "      <td>1578.704200</td>\n",
       "      <td>1579.226000</td>\n",
       "      <td>F</td>\n",
       "      <td>None</td>\n",
       "      <td>None</td>\n",
       "      <td>1</td>\n",
       "      <td>0.000000</td>\n",
       "      <td>7</td>\n",
       "      <td>2</td>\n",
       "    </tr>\n",
       "    <tr>\n",
       "      <th>48</th>\n",
       "      <td>1581.201400</td>\n",
       "      <td>1581.701500</td>\n",
       "      <td>K</td>\n",
       "      <td>None</td>\n",
       "      <td>None</td>\n",
       "      <td>1</td>\n",
       "      <td>0.000000</td>\n",
       "      <td>8</td>\n",
       "      <td>2</td>\n",
       "    </tr>\n",
       "    <tr>\n",
       "      <th>49</th>\n",
       "      <td>1583.704500</td>\n",
       "      <td>1584.201300</td>\n",
       "      <td>Q</td>\n",
       "      <td>None</td>\n",
       "      <td>None</td>\n",
       "      <td>1</td>\n",
       "      <td>0.000000</td>\n",
       "      <td>9</td>\n",
       "      <td>2</td>\n",
       "    </tr>\n",
       "    <tr>\n",
       "      <th>50</th>\n",
       "      <td>1586.203500</td>\n",
       "      <td>1586.701400</td>\n",
       "      <td>K</td>\n",
       "      <td>m</td>\n",
       "      <td>m</td>\n",
       "      <td>1</td>\n",
       "      <td>0.632900</td>\n",
       "      <td>10</td>\n",
       "      <td>2</td>\n",
       "    </tr>\n",
       "    <tr>\n",
       "      <th>51</th>\n",
       "      <td>1588.703400</td>\n",
       "      <td>1589.201200</td>\n",
       "      <td>B</td>\n",
       "      <td>None</td>\n",
       "      <td>None</td>\n",
       "      <td>1</td>\n",
       "      <td>0.000000</td>\n",
       "      <td>11</td>\n",
       "      <td>2</td>\n",
       "    </tr>\n",
       "    <tr>\n",
       "      <th>52</th>\n",
       "      <td>1591.203400</td>\n",
       "      <td>1591.701200</td>\n",
       "      <td>R</td>\n",
       "      <td>None</td>\n",
       "      <td>None</td>\n",
       "      <td>1</td>\n",
       "      <td>0.000000</td>\n",
       "      <td>12</td>\n",
       "      <td>2</td>\n",
       "    </tr>\n",
       "    <tr>\n",
       "      <th>53</th>\n",
       "      <td>1593.704400</td>\n",
       "      <td>1594.201200</td>\n",
       "      <td>X</td>\n",
       "      <td>None</td>\n",
       "      <td>None</td>\n",
       "      <td>1</td>\n",
       "      <td>0.000000</td>\n",
       "      <td>13</td>\n",
       "      <td>2</td>\n",
       "    </tr>\n",
       "    <tr>\n",
       "      <th>54</th>\n",
       "      <td>1596.204300</td>\n",
       "      <td>1596.701200</td>\n",
       "      <td>R</td>\n",
       "      <td>m</td>\n",
       "      <td>m</td>\n",
       "      <td>1</td>\n",
       "      <td>1.051300</td>\n",
       "      <td>14</td>\n",
       "      <td>2</td>\n",
       "    </tr>\n",
       "    <tr>\n",
       "      <th>55</th>\n",
       "      <td>1598.704200</td>\n",
       "      <td>1599.201100</td>\n",
       "      <td>H</td>\n",
       "      <td>None</td>\n",
       "      <td>None</td>\n",
       "      <td>1</td>\n",
       "      <td>0.000000</td>\n",
       "      <td>15</td>\n",
       "      <td>2</td>\n",
       "    </tr>\n",
       "    <tr>\n",
       "      <th>56</th>\n",
       "      <td>1601.202100</td>\n",
       "      <td>1601.701300</td>\n",
       "      <td>F</td>\n",
       "      <td>None</td>\n",
       "      <td>None</td>\n",
       "      <td>1</td>\n",
       "      <td>0.000000</td>\n",
       "      <td>16</td>\n",
       "      <td>2</td>\n",
       "    </tr>\n",
       "    <tr>\n",
       "      <th>57</th>\n",
       "      <td>1603.703400</td>\n",
       "      <td>1604.201200</td>\n",
       "      <td>H</td>\n",
       "      <td>m</td>\n",
       "      <td>m</td>\n",
       "      <td>1</td>\n",
       "      <td>0.423051</td>\n",
       "      <td>17</td>\n",
       "      <td>2</td>\n",
       "    </tr>\n",
       "    <tr>\n",
       "      <th>58</th>\n",
       "      <td>1606.203200</td>\n",
       "      <td>1606.701200</td>\n",
       "      <td>M</td>\n",
       "      <td>None</td>\n",
       "      <td>None</td>\n",
       "      <td>1</td>\n",
       "      <td>0.000000</td>\n",
       "      <td>18</td>\n",
       "      <td>2</td>\n",
       "    </tr>\n",
       "    <tr>\n",
       "      <th>59</th>\n",
       "      <td>1608.701900</td>\n",
       "      <td>1609.201000</td>\n",
       "      <td>K</td>\n",
       "      <td>None</td>\n",
       "      <td>None</td>\n",
       "      <td>1</td>\n",
       "      <td>0.000000</td>\n",
       "      <td>19</td>\n",
       "      <td>2</td>\n",
       "    </tr>\n",
       "  </tbody>\n",
       "</table>\n",
       "</div>"
      ],
      "text/plain": [
       "    trialStartTime  trialEndTime stimulus correctResponse participantResponse  \\\n",
       "0       417.513504    418.026661        K            None                None   \n",
       "1       420.019954    420.533970        R            None                None   \n",
       "2       422.520075    423.033668        B            None                None   \n",
       "3       425.019869    425.533765        H            None                None   \n",
       "4       427.519824    428.033656        B               m                   m   \n",
       "5       430.020067    430.533564        X            None                None   \n",
       "6       432.519740    433.033591        F            None                None   \n",
       "7       435.020185    435.533494        Q            None                None   \n",
       "8       437.520203    438.033444        M            None                None   \n",
       "9       440.018598    440.533452        Q               m                   m   \n",
       "10      442.519560    443.033552        H            None                None   \n",
       "11      445.019738    445.533455        R            None                None   \n",
       "12      447.519832    448.033320        Q            None                None   \n",
       "13      450.019745    450.532372        F            None                None   \n",
       "14      452.519583    453.033296        B            None                None   \n",
       "15      455.019746    455.533281        F               m                None   \n",
       "16      457.519648    458.033274        K            None                None   \n",
       "17      460.019466    460.533224        X            None                None   \n",
       "18      462.519452    463.033123        K               m                   m   \n",
       "19      465.019393    465.533150        M            None                None   \n",
       "20      788.323325    788.828738        B            None                None   \n",
       "21      790.831036    791.328843        M            None                None   \n",
       "22      793.329923    793.828787        F            None                None   \n",
       "23      795.831684    796.328654        R            None                None   \n",
       "24      798.342754    798.849120        H            None                None   \n",
       "25      800.831429    801.328597        R               m                   m   \n",
       "26      803.331295    803.832345        K            None                None   \n",
       "27      805.831935    806.328532        Q            None                None   \n",
       "28      808.331350    808.828579        X            None                None   \n",
       "29      810.831345    811.328425        M            None                None   \n",
       "30      813.331547    813.849006        Q            None                   m   \n",
       "31      815.830606    816.328426        M               m                   m   \n",
       "32      818.330565    818.828388        K            None                None   \n",
       "33      820.830521    821.328375        R            None                None   \n",
       "34      823.331354    823.828375        X            None                None   \n",
       "35      825.830486    826.328363        B            None                None   \n",
       "36      828.330414    828.828203        X               m                   m   \n",
       "37      830.830286    831.328203        H            None                None   \n",
       "38      833.330382    833.828130        F            None                None   \n",
       "39      835.831028    836.328392        H               m                None   \n",
       "40     1561.196300   1561.701800        X            None                None   \n",
       "41     1563.688500   1564.201700        M            None                None   \n",
       "42     1566.203900   1566.701600        Q            None                None   \n",
       "43     1568.687800   1569.201600        R            None                None   \n",
       "44     1571.203500   1571.701500        B            None                None   \n",
       "45     1573.703700   1574.201500        H            None                None   \n",
       "46     1576.204600   1576.701500        B               m                   m   \n",
       "47     1578.704200   1579.226000        F            None                None   \n",
       "48     1581.201400   1581.701500        K            None                None   \n",
       "49     1583.704500   1584.201300        Q            None                None   \n",
       "50     1586.203500   1586.701400        K               m                   m   \n",
       "51     1588.703400   1589.201200        B            None                None   \n",
       "52     1591.203400   1591.701200        R            None                None   \n",
       "53     1593.704400   1594.201200        X            None                None   \n",
       "54     1596.204300   1596.701200        R               m                   m   \n",
       "55     1598.704200   1599.201100        H            None                None   \n",
       "56     1601.202100   1601.701300        F            None                None   \n",
       "57     1603.703400   1604.201200        H               m                   m   \n",
       "58     1606.203200   1606.701200        M            None                None   \n",
       "59     1608.701900   1609.201000        K            None                None   \n",
       "\n",
       "    isCorrectResponse  responseTime  thisBlockTrialNumber  measurementBlock  \n",
       "0                   1      0.000000                     0                 0  \n",
       "1                   1      0.000000                     1                 0  \n",
       "2                   1      0.000000                     2                 0  \n",
       "3                   1      0.000000                     3                 0  \n",
       "4                   1      1.325266                     4                 0  \n",
       "5                   1      0.000000                     5                 0  \n",
       "6                   1      0.000000                     6                 0  \n",
       "7                   1      0.000000                     7                 0  \n",
       "8                   1      0.000000                     8                 0  \n",
       "9                   1      0.619826                     9                 0  \n",
       "10                  1      0.000000                    10                 0  \n",
       "11                  1      0.000000                    11                 0  \n",
       "12                  1      0.000000                    12                 0  \n",
       "13                  1      0.000000                    13                 0  \n",
       "14                  1      0.000000                    14                 0  \n",
       "15                  0      0.000000                    15                 0  \n",
       "16                  1      0.000000                    16                 0  \n",
       "17                  1      0.000000                    17                 0  \n",
       "18                  1      0.438049                    18                 0  \n",
       "19                  1      0.000000                    19                 0  \n",
       "20                  1      0.000000                     0                 1  \n",
       "21                  1      0.000000                     1                 1  \n",
       "22                  1      0.000000                     2                 1  \n",
       "23                  1      0.000000                     3                 1  \n",
       "24                  1      0.000000                     4                 1  \n",
       "25                  1      0.391921                     5                 1  \n",
       "26                  1      0.000000                     6                 1  \n",
       "27                  1      0.000000                     7                 1  \n",
       "28                  1      0.000000                     8                 1  \n",
       "29                  1      0.000000                     9                 1  \n",
       "30                  0      0.546742                    10                 1  \n",
       "31                  1      1.020085                    11                 1  \n",
       "32                  1      0.000000                    12                 1  \n",
       "33                  1      0.000000                    13                 1  \n",
       "34                  1      0.000000                    14                 1  \n",
       "35                  1      0.000000                    15                 1  \n",
       "36                  1      0.559008                    16                 1  \n",
       "37                  1      0.000000                    17                 1  \n",
       "38                  1      0.000000                    18                 1  \n",
       "39                  0      0.000000                    19                 1  \n",
       "40                  1      0.000000                     0                 2  \n",
       "41                  1      0.000000                     1                 2  \n",
       "42                  1      0.000000                     2                 2  \n",
       "43                  1      0.000000                     3                 2  \n",
       "44                  1      0.000000                     4                 2  \n",
       "45                  1      0.000000                     5                 2  \n",
       "46                  1      0.932100                     6                 2  \n",
       "47                  1      0.000000                     7                 2  \n",
       "48                  1      0.000000                     8                 2  \n",
       "49                  1      0.000000                     9                 2  \n",
       "50                  1      0.632900                    10                 2  \n",
       "51                  1      0.000000                    11                 2  \n",
       "52                  1      0.000000                    12                 2  \n",
       "53                  1      0.000000                    13                 2  \n",
       "54                  1      1.051300                    14                 2  \n",
       "55                  1      0.000000                    15                 2  \n",
       "56                  1      0.000000                    16                 2  \n",
       "57                  1      0.423051                    17                 2  \n",
       "58                  1      0.000000                    18                 2  \n",
       "59                  1      0.000000                    19                 2  "
      ]
     },
     "execution_count": 20,
     "metadata": {},
     "output_type": "execute_result"
    }
   ],
   "source": [
    "exp_nback"
   ]
  },
  {
   "cell_type": "code",
   "execution_count": 19,
   "metadata": {},
   "outputs": [
    {
     "data": {
      "application/vnd.plotly.v1+json": {
       "config": {
        "linkText": "Export to plot.ly",
        "plotlyServerURL": "https://plot.ly",
        "showLink": false
       },
       "data": [
        {
         "name": "time",
         "type": "scatter",
         "x": [
          417.5135035,
          420.0199538,
          422.5200747,
          425.0198693,
          427.519824,
          430.0200669,
          432.5197402,
          435.0201854,
          437.5202033,
          440.0185984,
          442.5195598,
          445.019738,
          447.5198322,
          450.0197448,
          452.5195828,
          455.0197462,
          457.5196478,
          460.0194655,
          462.5194519,
          465.0193927,
          788.3233254,
          790.8310359,
          793.3299226,
          795.8316843,
          798.3427536,
          800.8314288,
          803.3312948,
          805.8319352,
          808.3313504,
          810.8313445,
          813.3315471,
          815.8306057,
          818.3305646,
          820.8305209,
          823.3313541,
          825.830486,
          828.3304139,
          830.8302856,
          833.3303817,
          835.831028,
          1561.1963,
          1563.6885,
          1566.2039,
          1568.6878,
          1571.2035,
          1573.7037,
          1576.2046,
          1578.7042,
          1581.2014,
          1583.7045,
          1586.2035,
          1588.7034,
          1591.2034,
          1593.7044,
          1596.2043,
          1598.7042,
          1601.2021,
          1603.7034,
          1606.2032,
          1608.7019
         ],
         "y": [
          0,
          0,
          0,
          0,
          1.325266204,
          0,
          0,
          0,
          0,
          0.619825574,
          0,
          0,
          0,
          0,
          0,
          0,
          0,
          0,
          0.438049471,
          0,
          0,
          0,
          0,
          0,
          0,
          0.391921345,
          0,
          0,
          0,
          0,
          0.546741801,
          1.020084615,
          0,
          0,
          0,
          0,
          0.559007676,
          0,
          0,
          0,
          0,
          0,
          0,
          0,
          0,
          0,
          0.9321,
          0,
          0,
          0,
          0.6329,
          0,
          0,
          0,
          1.0513,
          0,
          0,
          0.423050596,
          0,
          0
         ]
        }
       ],
       "layout": {
        "template": {
         "data": {
          "bar": [
           {
            "error_x": {
             "color": "#2a3f5f"
            },
            "error_y": {
             "color": "#2a3f5f"
            },
            "marker": {
             "line": {
              "color": "#E5ECF6",
              "width": 0.5
             },
             "pattern": {
              "fillmode": "overlay",
              "size": 10,
              "solidity": 0.2
             }
            },
            "type": "bar"
           }
          ],
          "barpolar": [
           {
            "marker": {
             "line": {
              "color": "#E5ECF6",
              "width": 0.5
             },
             "pattern": {
              "fillmode": "overlay",
              "size": 10,
              "solidity": 0.2
             }
            },
            "type": "barpolar"
           }
          ],
          "carpet": [
           {
            "aaxis": {
             "endlinecolor": "#2a3f5f",
             "gridcolor": "white",
             "linecolor": "white",
             "minorgridcolor": "white",
             "startlinecolor": "#2a3f5f"
            },
            "baxis": {
             "endlinecolor": "#2a3f5f",
             "gridcolor": "white",
             "linecolor": "white",
             "minorgridcolor": "white",
             "startlinecolor": "#2a3f5f"
            },
            "type": "carpet"
           }
          ],
          "choropleth": [
           {
            "colorbar": {
             "outlinewidth": 0,
             "ticks": ""
            },
            "type": "choropleth"
           }
          ],
          "contour": [
           {
            "colorbar": {
             "outlinewidth": 0,
             "ticks": ""
            },
            "colorscale": [
             [
              0,
              "#0d0887"
             ],
             [
              0.1111111111111111,
              "#46039f"
             ],
             [
              0.2222222222222222,
              "#7201a8"
             ],
             [
              0.3333333333333333,
              "#9c179e"
             ],
             [
              0.4444444444444444,
              "#bd3786"
             ],
             [
              0.5555555555555556,
              "#d8576b"
             ],
             [
              0.6666666666666666,
              "#ed7953"
             ],
             [
              0.7777777777777778,
              "#fb9f3a"
             ],
             [
              0.8888888888888888,
              "#fdca26"
             ],
             [
              1,
              "#f0f921"
             ]
            ],
            "type": "contour"
           }
          ],
          "contourcarpet": [
           {
            "colorbar": {
             "outlinewidth": 0,
             "ticks": ""
            },
            "type": "contourcarpet"
           }
          ],
          "heatmap": [
           {
            "colorbar": {
             "outlinewidth": 0,
             "ticks": ""
            },
            "colorscale": [
             [
              0,
              "#0d0887"
             ],
             [
              0.1111111111111111,
              "#46039f"
             ],
             [
              0.2222222222222222,
              "#7201a8"
             ],
             [
              0.3333333333333333,
              "#9c179e"
             ],
             [
              0.4444444444444444,
              "#bd3786"
             ],
             [
              0.5555555555555556,
              "#d8576b"
             ],
             [
              0.6666666666666666,
              "#ed7953"
             ],
             [
              0.7777777777777778,
              "#fb9f3a"
             ],
             [
              0.8888888888888888,
              "#fdca26"
             ],
             [
              1,
              "#f0f921"
             ]
            ],
            "type": "heatmap"
           }
          ],
          "heatmapgl": [
           {
            "colorbar": {
             "outlinewidth": 0,
             "ticks": ""
            },
            "colorscale": [
             [
              0,
              "#0d0887"
             ],
             [
              0.1111111111111111,
              "#46039f"
             ],
             [
              0.2222222222222222,
              "#7201a8"
             ],
             [
              0.3333333333333333,
              "#9c179e"
             ],
             [
              0.4444444444444444,
              "#bd3786"
             ],
             [
              0.5555555555555556,
              "#d8576b"
             ],
             [
              0.6666666666666666,
              "#ed7953"
             ],
             [
              0.7777777777777778,
              "#fb9f3a"
             ],
             [
              0.8888888888888888,
              "#fdca26"
             ],
             [
              1,
              "#f0f921"
             ]
            ],
            "type": "heatmapgl"
           }
          ],
          "histogram": [
           {
            "marker": {
             "pattern": {
              "fillmode": "overlay",
              "size": 10,
              "solidity": 0.2
             }
            },
            "type": "histogram"
           }
          ],
          "histogram2d": [
           {
            "colorbar": {
             "outlinewidth": 0,
             "ticks": ""
            },
            "colorscale": [
             [
              0,
              "#0d0887"
             ],
             [
              0.1111111111111111,
              "#46039f"
             ],
             [
              0.2222222222222222,
              "#7201a8"
             ],
             [
              0.3333333333333333,
              "#9c179e"
             ],
             [
              0.4444444444444444,
              "#bd3786"
             ],
             [
              0.5555555555555556,
              "#d8576b"
             ],
             [
              0.6666666666666666,
              "#ed7953"
             ],
             [
              0.7777777777777778,
              "#fb9f3a"
             ],
             [
              0.8888888888888888,
              "#fdca26"
             ],
             [
              1,
              "#f0f921"
             ]
            ],
            "type": "histogram2d"
           }
          ],
          "histogram2dcontour": [
           {
            "colorbar": {
             "outlinewidth": 0,
             "ticks": ""
            },
            "colorscale": [
             [
              0,
              "#0d0887"
             ],
             [
              0.1111111111111111,
              "#46039f"
             ],
             [
              0.2222222222222222,
              "#7201a8"
             ],
             [
              0.3333333333333333,
              "#9c179e"
             ],
             [
              0.4444444444444444,
              "#bd3786"
             ],
             [
              0.5555555555555556,
              "#d8576b"
             ],
             [
              0.6666666666666666,
              "#ed7953"
             ],
             [
              0.7777777777777778,
              "#fb9f3a"
             ],
             [
              0.8888888888888888,
              "#fdca26"
             ],
             [
              1,
              "#f0f921"
             ]
            ],
            "type": "histogram2dcontour"
           }
          ],
          "mesh3d": [
           {
            "colorbar": {
             "outlinewidth": 0,
             "ticks": ""
            },
            "type": "mesh3d"
           }
          ],
          "parcoords": [
           {
            "line": {
             "colorbar": {
              "outlinewidth": 0,
              "ticks": ""
             }
            },
            "type": "parcoords"
           }
          ],
          "pie": [
           {
            "automargin": true,
            "type": "pie"
           }
          ],
          "scatter": [
           {
            "fillpattern": {
             "fillmode": "overlay",
             "size": 10,
             "solidity": 0.2
            },
            "type": "scatter"
           }
          ],
          "scatter3d": [
           {
            "line": {
             "colorbar": {
              "outlinewidth": 0,
              "ticks": ""
             }
            },
            "marker": {
             "colorbar": {
              "outlinewidth": 0,
              "ticks": ""
             }
            },
            "type": "scatter3d"
           }
          ],
          "scattercarpet": [
           {
            "marker": {
             "colorbar": {
              "outlinewidth": 0,
              "ticks": ""
             }
            },
            "type": "scattercarpet"
           }
          ],
          "scattergeo": [
           {
            "marker": {
             "colorbar": {
              "outlinewidth": 0,
              "ticks": ""
             }
            },
            "type": "scattergeo"
           }
          ],
          "scattergl": [
           {
            "marker": {
             "colorbar": {
              "outlinewidth": 0,
              "ticks": ""
             }
            },
            "type": "scattergl"
           }
          ],
          "scattermapbox": [
           {
            "marker": {
             "colorbar": {
              "outlinewidth": 0,
              "ticks": ""
             }
            },
            "type": "scattermapbox"
           }
          ],
          "scatterpolar": [
           {
            "marker": {
             "colorbar": {
              "outlinewidth": 0,
              "ticks": ""
             }
            },
            "type": "scatterpolar"
           }
          ],
          "scatterpolargl": [
           {
            "marker": {
             "colorbar": {
              "outlinewidth": 0,
              "ticks": ""
             }
            },
            "type": "scatterpolargl"
           }
          ],
          "scatterternary": [
           {
            "marker": {
             "colorbar": {
              "outlinewidth": 0,
              "ticks": ""
             }
            },
            "type": "scatterternary"
           }
          ],
          "surface": [
           {
            "colorbar": {
             "outlinewidth": 0,
             "ticks": ""
            },
            "colorscale": [
             [
              0,
              "#0d0887"
             ],
             [
              0.1111111111111111,
              "#46039f"
             ],
             [
              0.2222222222222222,
              "#7201a8"
             ],
             [
              0.3333333333333333,
              "#9c179e"
             ],
             [
              0.4444444444444444,
              "#bd3786"
             ],
             [
              0.5555555555555556,
              "#d8576b"
             ],
             [
              0.6666666666666666,
              "#ed7953"
             ],
             [
              0.7777777777777778,
              "#fb9f3a"
             ],
             [
              0.8888888888888888,
              "#fdca26"
             ],
             [
              1,
              "#f0f921"
             ]
            ],
            "type": "surface"
           }
          ],
          "table": [
           {
            "cells": {
             "fill": {
              "color": "#EBF0F8"
             },
             "line": {
              "color": "white"
             }
            },
            "header": {
             "fill": {
              "color": "#C8D4E3"
             },
             "line": {
              "color": "white"
             }
            },
            "type": "table"
           }
          ]
         },
         "layout": {
          "annotationdefaults": {
           "arrowcolor": "#2a3f5f",
           "arrowhead": 0,
           "arrowwidth": 1
          },
          "autotypenumbers": "strict",
          "coloraxis": {
           "colorbar": {
            "outlinewidth": 0,
            "ticks": ""
           }
          },
          "colorscale": {
           "diverging": [
            [
             0,
             "#8e0152"
            ],
            [
             0.1,
             "#c51b7d"
            ],
            [
             0.2,
             "#de77ae"
            ],
            [
             0.3,
             "#f1b6da"
            ],
            [
             0.4,
             "#fde0ef"
            ],
            [
             0.5,
             "#f7f7f7"
            ],
            [
             0.6,
             "#e6f5d0"
            ],
            [
             0.7,
             "#b8e186"
            ],
            [
             0.8,
             "#7fbc41"
            ],
            [
             0.9,
             "#4d9221"
            ],
            [
             1,
             "#276419"
            ]
           ],
           "sequential": [
            [
             0,
             "#0d0887"
            ],
            [
             0.1111111111111111,
             "#46039f"
            ],
            [
             0.2222222222222222,
             "#7201a8"
            ],
            [
             0.3333333333333333,
             "#9c179e"
            ],
            [
             0.4444444444444444,
             "#bd3786"
            ],
            [
             0.5555555555555556,
             "#d8576b"
            ],
            [
             0.6666666666666666,
             "#ed7953"
            ],
            [
             0.7777777777777778,
             "#fb9f3a"
            ],
            [
             0.8888888888888888,
             "#fdca26"
            ],
            [
             1,
             "#f0f921"
            ]
           ],
           "sequentialminus": [
            [
             0,
             "#0d0887"
            ],
            [
             0.1111111111111111,
             "#46039f"
            ],
            [
             0.2222222222222222,
             "#7201a8"
            ],
            [
             0.3333333333333333,
             "#9c179e"
            ],
            [
             0.4444444444444444,
             "#bd3786"
            ],
            [
             0.5555555555555556,
             "#d8576b"
            ],
            [
             0.6666666666666666,
             "#ed7953"
            ],
            [
             0.7777777777777778,
             "#fb9f3a"
            ],
            [
             0.8888888888888888,
             "#fdca26"
            ],
            [
             1,
             "#f0f921"
            ]
           ]
          },
          "colorway": [
           "#636efa",
           "#EF553B",
           "#00cc96",
           "#ab63fa",
           "#FFA15A",
           "#19d3f3",
           "#FF6692",
           "#B6E880",
           "#FF97FF",
           "#FECB52"
          ],
          "font": {
           "color": "#2a3f5f"
          },
          "geo": {
           "bgcolor": "white",
           "lakecolor": "white",
           "landcolor": "#E5ECF6",
           "showlakes": true,
           "showland": true,
           "subunitcolor": "white"
          },
          "hoverlabel": {
           "align": "left"
          },
          "hovermode": "closest",
          "mapbox": {
           "style": "light"
          },
          "paper_bgcolor": "white",
          "plot_bgcolor": "#E5ECF6",
          "polar": {
           "angularaxis": {
            "gridcolor": "white",
            "linecolor": "white",
            "ticks": ""
           },
           "bgcolor": "#E5ECF6",
           "radialaxis": {
            "gridcolor": "white",
            "linecolor": "white",
            "ticks": ""
           }
          },
          "scene": {
           "xaxis": {
            "backgroundcolor": "#E5ECF6",
            "gridcolor": "white",
            "gridwidth": 2,
            "linecolor": "white",
            "showbackground": true,
            "ticks": "",
            "zerolinecolor": "white"
           },
           "yaxis": {
            "backgroundcolor": "#E5ECF6",
            "gridcolor": "white",
            "gridwidth": 2,
            "linecolor": "white",
            "showbackground": true,
            "ticks": "",
            "zerolinecolor": "white"
           },
           "zaxis": {
            "backgroundcolor": "#E5ECF6",
            "gridcolor": "white",
            "gridwidth": 2,
            "linecolor": "white",
            "showbackground": true,
            "ticks": "",
            "zerolinecolor": "white"
           }
          },
          "shapedefaults": {
           "line": {
            "color": "#2a3f5f"
           }
          },
          "ternary": {
           "aaxis": {
            "gridcolor": "white",
            "linecolor": "white",
            "ticks": ""
           },
           "baxis": {
            "gridcolor": "white",
            "linecolor": "white",
            "ticks": ""
           },
           "bgcolor": "#E5ECF6",
           "caxis": {
            "gridcolor": "white",
            "linecolor": "white",
            "ticks": ""
           }
          },
          "title": {
           "x": 0.05
          },
          "xaxis": {
           "automargin": true,
           "gridcolor": "white",
           "linecolor": "white",
           "ticks": "",
           "title": {
            "standoff": 15
           },
           "zerolinecolor": "white",
           "zerolinewidth": 2
          },
          "yaxis": {
           "automargin": true,
           "gridcolor": "white",
           "linecolor": "white",
           "ticks": "",
           "title": {
            "standoff": 15
           },
           "zerolinecolor": "white",
           "zerolinewidth": 2
          }
         }
        }
       }
      }
     },
     "metadata": {},
     "output_type": "display_data"
    }
   ],
   "source": [
    "view = go.Scatter(x=exp_nback['trialStartTime'], y=exp_nback['responseTime'], name= 'time')\n",
    "py.iplot([view])"
   ]
  },
  {
   "cell_type": "code",
   "execution_count": 21,
   "metadata": {},
   "outputs": [
    {
     "data": {
      "text/html": [
       "<div>\n",
       "<style scoped>\n",
       "    .dataframe tbody tr th:only-of-type {\n",
       "        vertical-align: middle;\n",
       "    }\n",
       "\n",
       "    .dataframe tbody tr th {\n",
       "        vertical-align: top;\n",
       "    }\n",
       "\n",
       "    .dataframe thead th {\n",
       "        text-align: right;\n",
       "    }\n",
       "</style>\n",
       "<table border=\"1\" class=\"dataframe\">\n",
       "  <thead>\n",
       "    <tr style=\"text-align: right;\">\n",
       "      <th></th>\n",
       "      <th>trialStartTime</th>\n",
       "      <th>trialNumber</th>\n",
       "      <th>repNumber</th>\n",
       "      <th>stimulusStartTime</th>\n",
       "      <th>stimulusQuadrant</th>\n",
       "      <th>stimulus</th>\n",
       "      <th>correctResponse</th>\n",
       "      <th>participantResponse</th>\n",
       "      <th>isCorrectResponse</th>\n",
       "      <th>responseTime</th>\n",
       "    </tr>\n",
       "  </thead>\n",
       "  <tbody>\n",
       "    <tr>\n",
       "      <th>0</th>\n",
       "      <td>971.875731</td>\n",
       "      <td>0</td>\n",
       "      <td>0</td>\n",
       "      <td>972.011667</td>\n",
       "      <td>1</td>\n",
       "      <td>G6</td>\n",
       "      <td>c</td>\n",
       "      <td>None</td>\n",
       "      <td>0</td>\n",
       "      <td>0.000000</td>\n",
       "    </tr>\n",
       "    <tr>\n",
       "      <th>1</th>\n",
       "      <td>977.030049</td>\n",
       "      <td>1</td>\n",
       "      <td>0</td>\n",
       "      <td>977.162669</td>\n",
       "      <td>2</td>\n",
       "      <td>U6</td>\n",
       "      <td>m</td>\n",
       "      <td>None</td>\n",
       "      <td>0</td>\n",
       "      <td>0.000000</td>\n",
       "    </tr>\n",
       "    <tr>\n",
       "      <th>2</th>\n",
       "      <td>982.163252</td>\n",
       "      <td>2</td>\n",
       "      <td>0</td>\n",
       "      <td>982.296967</td>\n",
       "      <td>3</td>\n",
       "      <td>K5</td>\n",
       "      <td>m</td>\n",
       "      <td>m</td>\n",
       "      <td>1</td>\n",
       "      <td>0.056057</td>\n",
       "    </tr>\n",
       "    <tr>\n",
       "      <th>3</th>\n",
       "      <td>982.379661</td>\n",
       "      <td>3</td>\n",
       "      <td>0</td>\n",
       "      <td>982.514110</td>\n",
       "      <td>4</td>\n",
       "      <td>K9</td>\n",
       "      <td>m</td>\n",
       "      <td>None</td>\n",
       "      <td>0</td>\n",
       "      <td>0.000000</td>\n",
       "    </tr>\n",
       "    <tr>\n",
       "      <th>4</th>\n",
       "      <td>987.527741</td>\n",
       "      <td>4</td>\n",
       "      <td>1</td>\n",
       "      <td>987.663554</td>\n",
       "      <td>1</td>\n",
       "      <td>A5</td>\n",
       "      <td>m</td>\n",
       "      <td>None</td>\n",
       "      <td>0</td>\n",
       "      <td>0.000000</td>\n",
       "    </tr>\n",
       "  </tbody>\n",
       "</table>\n",
       "</div>"
      ],
      "text/plain": [
       "   trialStartTime  trialNumber  repNumber  stimulusStartTime  \\\n",
       "0      971.875731            0          0         972.011667   \n",
       "1      977.030049            1          0         977.162669   \n",
       "2      982.163252            2          0         982.296967   \n",
       "3      982.379661            3          0         982.514110   \n",
       "4      987.527741            4          1         987.663554   \n",
       "\n",
       "   stimulusQuadrant stimulus correctResponse participantResponse  \\\n",
       "0                 1       G6               c                None   \n",
       "1                 2       U6               m                None   \n",
       "2                 3       K5               m                   m   \n",
       "3                 4       K9               m                None   \n",
       "4                 1       A5               m                None   \n",
       "\n",
       "   isCorrectResponse  responseTime  \n",
       "0                  0      0.000000  \n",
       "1                  0      0.000000  \n",
       "2                  1      0.056057  \n",
       "3                  0      0.000000  \n",
       "4                  0      0.000000  "
      ]
     },
     "execution_count": 21,
     "metadata": {},
     "output_type": "execute_result"
    }
   ],
   "source": [
    "exp_task_switch.fillna(0, inplace=True)\n",
    "exp_task_switch.head()"
   ]
  },
  {
   "cell_type": "code",
   "execution_count": 23,
   "metadata": {},
   "outputs": [
    {
     "data": {
      "text/html": [
       "<div>\n",
       "<style scoped>\n",
       "    .dataframe tbody tr th:only-of-type {\n",
       "        vertical-align: middle;\n",
       "    }\n",
       "\n",
       "    .dataframe tbody tr th {\n",
       "        vertical-align: top;\n",
       "    }\n",
       "\n",
       "    .dataframe thead th {\n",
       "        text-align: right;\n",
       "    }\n",
       "</style>\n",
       "<table border=\"1\" class=\"dataframe\">\n",
       "  <thead>\n",
       "    <tr style=\"text-align: right;\">\n",
       "      <th></th>\n",
       "      <th>trialStartTime</th>\n",
       "      <th>trialNumber</th>\n",
       "      <th>repNumber</th>\n",
       "      <th>stimulusStartTime</th>\n",
       "      <th>stimulusQuadrant</th>\n",
       "      <th>stimulus</th>\n",
       "      <th>correctResponse</th>\n",
       "      <th>participantResponse</th>\n",
       "      <th>isCorrectResponse</th>\n",
       "      <th>responseTime</th>\n",
       "    </tr>\n",
       "  </thead>\n",
       "  <tbody>\n",
       "    <tr>\n",
       "      <th>0</th>\n",
       "      <td>971.875731</td>\n",
       "      <td>0</td>\n",
       "      <td>0</td>\n",
       "      <td>972.011667</td>\n",
       "      <td>1</td>\n",
       "      <td>G6</td>\n",
       "      <td>c</td>\n",
       "      <td>None</td>\n",
       "      <td>0</td>\n",
       "      <td>0.000000</td>\n",
       "    </tr>\n",
       "    <tr>\n",
       "      <th>1</th>\n",
       "      <td>977.030049</td>\n",
       "      <td>1</td>\n",
       "      <td>0</td>\n",
       "      <td>977.162669</td>\n",
       "      <td>2</td>\n",
       "      <td>U6</td>\n",
       "      <td>m</td>\n",
       "      <td>None</td>\n",
       "      <td>0</td>\n",
       "      <td>0.000000</td>\n",
       "    </tr>\n",
       "    <tr>\n",
       "      <th>2</th>\n",
       "      <td>982.163252</td>\n",
       "      <td>2</td>\n",
       "      <td>0</td>\n",
       "      <td>982.296967</td>\n",
       "      <td>3</td>\n",
       "      <td>K5</td>\n",
       "      <td>m</td>\n",
       "      <td>m</td>\n",
       "      <td>1</td>\n",
       "      <td>0.056057</td>\n",
       "    </tr>\n",
       "    <tr>\n",
       "      <th>3</th>\n",
       "      <td>982.379661</td>\n",
       "      <td>3</td>\n",
       "      <td>0</td>\n",
       "      <td>982.514110</td>\n",
       "      <td>4</td>\n",
       "      <td>K9</td>\n",
       "      <td>m</td>\n",
       "      <td>None</td>\n",
       "      <td>0</td>\n",
       "      <td>0.000000</td>\n",
       "    </tr>\n",
       "    <tr>\n",
       "      <th>4</th>\n",
       "      <td>987.527741</td>\n",
       "      <td>4</td>\n",
       "      <td>1</td>\n",
       "      <td>987.663554</td>\n",
       "      <td>1</td>\n",
       "      <td>A5</td>\n",
       "      <td>m</td>\n",
       "      <td>None</td>\n",
       "      <td>0</td>\n",
       "      <td>0.000000</td>\n",
       "    </tr>\n",
       "    <tr>\n",
       "      <th>...</th>\n",
       "      <td>...</td>\n",
       "      <td>...</td>\n",
       "      <td>...</td>\n",
       "      <td>...</td>\n",
       "      <td>...</td>\n",
       "      <td>...</td>\n",
       "      <td>...</td>\n",
       "      <td>...</td>\n",
       "      <td>...</td>\n",
       "      <td>...</td>\n",
       "    </tr>\n",
       "    <tr>\n",
       "      <th>195</th>\n",
       "      <td>1449.106845</td>\n",
       "      <td>195</td>\n",
       "      <td>48</td>\n",
       "      <td>1449.240637</td>\n",
       "      <td>4</td>\n",
       "      <td>U5</td>\n",
       "      <td>m</td>\n",
       "      <td>c</td>\n",
       "      <td>0</td>\n",
       "      <td>0.753984</td>\n",
       "    </tr>\n",
       "    <tr>\n",
       "      <th>196</th>\n",
       "      <td>1450.024261</td>\n",
       "      <td>196</td>\n",
       "      <td>49</td>\n",
       "      <td>1450.156065</td>\n",
       "      <td>1</td>\n",
       "      <td>M9</td>\n",
       "      <td>c</td>\n",
       "      <td>c</td>\n",
       "      <td>1</td>\n",
       "      <td>1.607479</td>\n",
       "    </tr>\n",
       "    <tr>\n",
       "      <th>197</th>\n",
       "      <td>1451.789006</td>\n",
       "      <td>197</td>\n",
       "      <td>49</td>\n",
       "      <td>1451.922364</td>\n",
       "      <td>2</td>\n",
       "      <td>G4</td>\n",
       "      <td>c</td>\n",
       "      <td>c</td>\n",
       "      <td>1</td>\n",
       "      <td>1.858161</td>\n",
       "    </tr>\n",
       "    <tr>\n",
       "      <th>198</th>\n",
       "      <td>1453.805484</td>\n",
       "      <td>198</td>\n",
       "      <td>49</td>\n",
       "      <td>1453.939716</td>\n",
       "      <td>3</td>\n",
       "      <td>A9</td>\n",
       "      <td>m</td>\n",
       "      <td>c</td>\n",
       "      <td>0</td>\n",
       "      <td>3.785533</td>\n",
       "    </tr>\n",
       "    <tr>\n",
       "      <th>199</th>\n",
       "      <td>1457.755836</td>\n",
       "      <td>199</td>\n",
       "      <td>49</td>\n",
       "      <td>1457.889717</td>\n",
       "      <td>4</td>\n",
       "      <td>E7</td>\n",
       "      <td>m</td>\n",
       "      <td>c</td>\n",
       "      <td>0</td>\n",
       "      <td>0.705479</td>\n",
       "    </tr>\n",
       "  </tbody>\n",
       "</table>\n",
       "<p>200 rows × 10 columns</p>\n",
       "</div>"
      ],
      "text/plain": [
       "     trialStartTime  trialNumber  repNumber  stimulusStartTime  \\\n",
       "0        971.875731            0          0         972.011667   \n",
       "1        977.030049            1          0         977.162669   \n",
       "2        982.163252            2          0         982.296967   \n",
       "3        982.379661            3          0         982.514110   \n",
       "4        987.527741            4          1         987.663554   \n",
       "..              ...          ...        ...                ...   \n",
       "195     1449.106845          195         48        1449.240637   \n",
       "196     1450.024261          196         49        1450.156065   \n",
       "197     1451.789006          197         49        1451.922364   \n",
       "198     1453.805484          198         49        1453.939716   \n",
       "199     1457.755836          199         49        1457.889717   \n",
       "\n",
       "     stimulusQuadrant stimulus correctResponse participantResponse  \\\n",
       "0                   1       G6               c                None   \n",
       "1                   2       U6               m                None   \n",
       "2                   3       K5               m                   m   \n",
       "3                   4       K9               m                None   \n",
       "4                   1       A5               m                None   \n",
       "..                ...      ...             ...                 ...   \n",
       "195                 4       U5               m                   c   \n",
       "196                 1       M9               c                   c   \n",
       "197                 2       G4               c                   c   \n",
       "198                 3       A9               m                   c   \n",
       "199                 4       E7               m                   c   \n",
       "\n",
       "     isCorrectResponse  responseTime  \n",
       "0                    0      0.000000  \n",
       "1                    0      0.000000  \n",
       "2                    1      0.056057  \n",
       "3                    0      0.000000  \n",
       "4                    0      0.000000  \n",
       "..                 ...           ...  \n",
       "195                  0      0.753984  \n",
       "196                  1      1.607479  \n",
       "197                  1      1.858161  \n",
       "198                  0      3.785533  \n",
       "199                  0      0.705479  \n",
       "\n",
       "[200 rows x 10 columns]"
      ]
     },
     "execution_count": 23,
     "metadata": {},
     "output_type": "execute_result"
    }
   ],
   "source": [
    "exp_task_switch"
   ]
  },
  {
   "cell_type": "code",
   "execution_count": 22,
   "metadata": {},
   "outputs": [
    {
     "data": {
      "application/vnd.plotly.v1+json": {
       "config": {
        "linkText": "Export to plot.ly",
        "plotlyServerURL": "https://plot.ly",
        "showLink": false
       },
       "data": [
        {
         "name": "time",
         "type": "scatter",
         "x": [
          971.8757313,
          977.0300491,
          982.1632521,
          982.3796607,
          987.5277412,
          992.6955961,
          997.8611856,
          1002.511839,
          1004.88209,
          1009.460553,
          1011.261479,
          1016.291362,
          1020.061552,
          1025.227913,
          1028.793652,
          1033.611246,
          1038.760612,
          1043.929156,
          1046.629194,
          1051.795622,
          1052.177719,
          1056.211098,
          1057.847131,
          1061.578254,
          1063.862513,
          1067.679404,
          1070.943016,
          1075.660454,
          1077.611246,
          1080.394003,
          1081.805083,
          1086.01352,
          1089.944033,
          1091.77988,
          1096.944284,
          1100.226285,
          1103.326846,
          1107.377399,
          1109.593359,
          1113.043754,
          1114.426887,
          1119.591587,
          1121.858824,
          1125.592954,
          1128.571477,
          1132.759212,
          1135.027907,
          1137.861126,
          1139.628632,
          1143.228089,
          1145.759163,
          1148.644293,
          1151.360695,
          1155.209433,
          1156.992728,
          1159.877602,
          1162.926748,
          1165.692862,
          1167.059347,
          1169.846017,
          1170.958692,
          1172.859386,
          1174.225714,
          1179.391581,
          1180.625963,
          1182.90953,
          1183.909839,
          1186.258649,
          1188.976593,
          1190.75844,
          1192.459197,
          1194.42644,
          1196.142593,
          1198.276951,
          1200.076375,
          1203.708966,
          1205.05842,
          1210.061199,
          1211.342461,
          1213.177115,
          1214.314524,
          1216.742347,
          1218.06102,
          1222.26073,
          1223.608887,
          1227.091516,
          1228.643489,
          1230.979419,
          1232.594072,
          1235.642932,
          1237.403433,
          1241.458468,
          1242.793316,
          1245.027338,
          1247.607949,
          1249.593075,
          1250.909272,
          1252.807631,
          1253.891851,
          1255.475633,
          1256.640527,
          1258.102822,
          1259.492161,
          1262.056961,
          1262.973713,
          1265.057101,
          1266.323366,
          1267.956472,
          1268.97501,
          1273.440863,
          1276.091113,
          1279.89078,
          1281.008569,
          1282.44119,
          1283.508374,
          1285.174703,
          1286.090105,
          1288.975826,
          1290.656946,
          1292.974478,
          1294.057625,
          1295.557449,
          1296.640361,
          1298.389518,
          1299.243098,
          1300.358887,
          1304.357601,
          1306.490433,
          1307.874353,
          1312.569253,
          1315.974283,
          1317.990563,
          1319.057463,
          1321.925968,
          1323.423786,
          1327.225223,
          1328.191487,
          1332.290812,
          1333.322653,
          1336.840771,
          1338.409716,
          1340.207165,
          1341.291318,
          1342.69187,
          1343.492696,
          1345.191898,
          1346.108109,
          1347.74083,
          1348.709855,
          1350.873369,
          1352.058506,
          1353.957145,
          1355.091475,
          1357.090303,
          1358.23983,
          1363.391774,
          1363.576425,
          1366.257524,
          1368.189684,
          1369.986696,
          1373.319681,
          1378.473469,
          1380.773357,
          1385.924393,
          1387.57292,
          1389.19106,
          1390.292096,
          1392.173072,
          1393.440094,
          1397.856303,
          1399.15942,
          1402.155569,
          1402.921549,
          1404.039516,
          1405.039278,
          1406.240042,
          1407.02476,
          1408.625018,
          1409.455249,
          1411.322155,
          1412.20547,
          1413.957521,
          1414.854986,
          1416.373408,
          1418.267251,
          1420.036245,
          1420.902557,
          1424.908097,
          1425.907361,
          1431.072088,
          1435.371458,
          1437.873732,
          1439.356315,
          1443.606038,
          1444.937718,
          1449.106845,
          1450.024261,
          1451.789006,
          1453.805484,
          1457.755836
         ],
         "y": [
          0,
          0,
          0.056057096,
          0,
          0,
          0,
          4.489688111,
          2.203989354,
          4.421882287,
          1.643902331,
          4.873620548,
          3.607405863,
          0,
          3.400500813,
          4.655334413,
          0,
          0,
          2.536137905,
          0,
          0.221133999,
          3.871909165,
          1.473475747,
          3.568247082,
          2.115154764,
          3.653072976,
          3.109577915,
          4.548615957,
          1.78412431,
          2.632522626,
          1.226155278,
          4.049686337,
          3.77154111,
          1.670518576,
          0,
          3.12016904,
          2.930718969,
          3.887427712,
          2.063025835,
          3.289625491,
          1.2257875,
          0,
          2.105491415,
          3.581749099,
          2.816697441,
          4.037527696,
          2.109155405,
          2.674428503,
          1.616284223,
          3.431340469,
          2.372918945,
          2.724709017,
          2.549619993,
          3.695772563,
          1.631288663,
          2.72233635,
          2.894600091,
          2.614570089,
          1.200621184,
          2.622591242,
          0.963470795,
          1.733226591,
          1.208006923,
          0,
          1.075195295,
          2.122297226,
          0.839982795,
          2.191251416,
          2.554452325,
          1.617153618,
          1.543355094,
          1.800793125,
          1.560537245,
          1.975258732,
          1.635831556,
          3.476815389,
          1.187958131,
          4.841886937,
          1.131461516,
          1.670299618,
          0.971688626,
          2.271559981,
          1.153895138,
          4.03389903,
          1.19148826,
          3.319538987,
          1.386362927,
          2.169625977,
          1.453410647,
          2.889151243,
          1.588745313,
          3.912963921,
          1.167462573,
          2.064991205,
          2.415222318,
          1.825708187,
          1.162830107,
          1.742839438,
          0.929137725,
          1.417037348,
          1.009414544,
          1.284588054,
          1.240717946,
          2.397293932,
          0.754266992,
          1.9335207,
          1.110927195,
          1.481664648,
          0.852239348,
          4.306985063,
          2.493210252,
          3.637998272,
          0.952827382,
          1.278066578,
          0.913389966,
          1.508430846,
          0.752205621,
          2.718931706,
          1.526529037,
          2.160846465,
          0.932574333,
          1.342282484,
          0.929884783,
          1.587740231,
          0.684189739,
          0.959074921,
          3.844287016,
          1.971761008,
          1.225131874,
          4.531522911,
          3.256328127,
          1.853651523,
          0.902362816,
          2.705736327,
          1.343030555,
          3.64162328,
          0.800661732,
          3.941058799,
          0.865167427,
          3.358143482,
          1.40301862,
          1.632776638,
          0.917742602,
          1.238767217,
          0.631798292,
          1.532777514,
          0.756802377,
          1.475349222,
          0.808192924,
          2.008832651,
          1.016640255,
          1.744260196,
          0.965107356,
          1.837321641,
          0.983505967,
          0,
          0.030229644,
          2.527143761,
          1.76939054,
          1.642015774,
          3.168711281,
          0,
          2.145574226,
          0,
          1.481233071,
          1.446909379,
          0.930216374,
          1.731833632,
          1.107463836,
          4.266390384,
          1.132090181,
          2.839855027,
          0.598984288,
          0.958326882,
          0.844335021,
          1.0351558,
          0.613900967,
          1.447498979,
          0.668962753,
          1.704457764,
          0.725909221,
          1.588715405,
          0.742742065,
          1.357454237,
          1.719008825,
          1.627870269,
          0.702996641,
          3.836640625,
          0.831181663,
          0,
          4.134820389,
          2.341568186,
          1.31771229,
          4.091454933,
          1.172425313,
          4.016506025,
          0.753983929,
          1.607479072,
          1.858160998,
          3.785532696,
          0.705479051
         ]
        }
       ],
       "layout": {
        "template": {
         "data": {
          "bar": [
           {
            "error_x": {
             "color": "#2a3f5f"
            },
            "error_y": {
             "color": "#2a3f5f"
            },
            "marker": {
             "line": {
              "color": "#E5ECF6",
              "width": 0.5
             },
             "pattern": {
              "fillmode": "overlay",
              "size": 10,
              "solidity": 0.2
             }
            },
            "type": "bar"
           }
          ],
          "barpolar": [
           {
            "marker": {
             "line": {
              "color": "#E5ECF6",
              "width": 0.5
             },
             "pattern": {
              "fillmode": "overlay",
              "size": 10,
              "solidity": 0.2
             }
            },
            "type": "barpolar"
           }
          ],
          "carpet": [
           {
            "aaxis": {
             "endlinecolor": "#2a3f5f",
             "gridcolor": "white",
             "linecolor": "white",
             "minorgridcolor": "white",
             "startlinecolor": "#2a3f5f"
            },
            "baxis": {
             "endlinecolor": "#2a3f5f",
             "gridcolor": "white",
             "linecolor": "white",
             "minorgridcolor": "white",
             "startlinecolor": "#2a3f5f"
            },
            "type": "carpet"
           }
          ],
          "choropleth": [
           {
            "colorbar": {
             "outlinewidth": 0,
             "ticks": ""
            },
            "type": "choropleth"
           }
          ],
          "contour": [
           {
            "colorbar": {
             "outlinewidth": 0,
             "ticks": ""
            },
            "colorscale": [
             [
              0,
              "#0d0887"
             ],
             [
              0.1111111111111111,
              "#46039f"
             ],
             [
              0.2222222222222222,
              "#7201a8"
             ],
             [
              0.3333333333333333,
              "#9c179e"
             ],
             [
              0.4444444444444444,
              "#bd3786"
             ],
             [
              0.5555555555555556,
              "#d8576b"
             ],
             [
              0.6666666666666666,
              "#ed7953"
             ],
             [
              0.7777777777777778,
              "#fb9f3a"
             ],
             [
              0.8888888888888888,
              "#fdca26"
             ],
             [
              1,
              "#f0f921"
             ]
            ],
            "type": "contour"
           }
          ],
          "contourcarpet": [
           {
            "colorbar": {
             "outlinewidth": 0,
             "ticks": ""
            },
            "type": "contourcarpet"
           }
          ],
          "heatmap": [
           {
            "colorbar": {
             "outlinewidth": 0,
             "ticks": ""
            },
            "colorscale": [
             [
              0,
              "#0d0887"
             ],
             [
              0.1111111111111111,
              "#46039f"
             ],
             [
              0.2222222222222222,
              "#7201a8"
             ],
             [
              0.3333333333333333,
              "#9c179e"
             ],
             [
              0.4444444444444444,
              "#bd3786"
             ],
             [
              0.5555555555555556,
              "#d8576b"
             ],
             [
              0.6666666666666666,
              "#ed7953"
             ],
             [
              0.7777777777777778,
              "#fb9f3a"
             ],
             [
              0.8888888888888888,
              "#fdca26"
             ],
             [
              1,
              "#f0f921"
             ]
            ],
            "type": "heatmap"
           }
          ],
          "heatmapgl": [
           {
            "colorbar": {
             "outlinewidth": 0,
             "ticks": ""
            },
            "colorscale": [
             [
              0,
              "#0d0887"
             ],
             [
              0.1111111111111111,
              "#46039f"
             ],
             [
              0.2222222222222222,
              "#7201a8"
             ],
             [
              0.3333333333333333,
              "#9c179e"
             ],
             [
              0.4444444444444444,
              "#bd3786"
             ],
             [
              0.5555555555555556,
              "#d8576b"
             ],
             [
              0.6666666666666666,
              "#ed7953"
             ],
             [
              0.7777777777777778,
              "#fb9f3a"
             ],
             [
              0.8888888888888888,
              "#fdca26"
             ],
             [
              1,
              "#f0f921"
             ]
            ],
            "type": "heatmapgl"
           }
          ],
          "histogram": [
           {
            "marker": {
             "pattern": {
              "fillmode": "overlay",
              "size": 10,
              "solidity": 0.2
             }
            },
            "type": "histogram"
           }
          ],
          "histogram2d": [
           {
            "colorbar": {
             "outlinewidth": 0,
             "ticks": ""
            },
            "colorscale": [
             [
              0,
              "#0d0887"
             ],
             [
              0.1111111111111111,
              "#46039f"
             ],
             [
              0.2222222222222222,
              "#7201a8"
             ],
             [
              0.3333333333333333,
              "#9c179e"
             ],
             [
              0.4444444444444444,
              "#bd3786"
             ],
             [
              0.5555555555555556,
              "#d8576b"
             ],
             [
              0.6666666666666666,
              "#ed7953"
             ],
             [
              0.7777777777777778,
              "#fb9f3a"
             ],
             [
              0.8888888888888888,
              "#fdca26"
             ],
             [
              1,
              "#f0f921"
             ]
            ],
            "type": "histogram2d"
           }
          ],
          "histogram2dcontour": [
           {
            "colorbar": {
             "outlinewidth": 0,
             "ticks": ""
            },
            "colorscale": [
             [
              0,
              "#0d0887"
             ],
             [
              0.1111111111111111,
              "#46039f"
             ],
             [
              0.2222222222222222,
              "#7201a8"
             ],
             [
              0.3333333333333333,
              "#9c179e"
             ],
             [
              0.4444444444444444,
              "#bd3786"
             ],
             [
              0.5555555555555556,
              "#d8576b"
             ],
             [
              0.6666666666666666,
              "#ed7953"
             ],
             [
              0.7777777777777778,
              "#fb9f3a"
             ],
             [
              0.8888888888888888,
              "#fdca26"
             ],
             [
              1,
              "#f0f921"
             ]
            ],
            "type": "histogram2dcontour"
           }
          ],
          "mesh3d": [
           {
            "colorbar": {
             "outlinewidth": 0,
             "ticks": ""
            },
            "type": "mesh3d"
           }
          ],
          "parcoords": [
           {
            "line": {
             "colorbar": {
              "outlinewidth": 0,
              "ticks": ""
             }
            },
            "type": "parcoords"
           }
          ],
          "pie": [
           {
            "automargin": true,
            "type": "pie"
           }
          ],
          "scatter": [
           {
            "fillpattern": {
             "fillmode": "overlay",
             "size": 10,
             "solidity": 0.2
            },
            "type": "scatter"
           }
          ],
          "scatter3d": [
           {
            "line": {
             "colorbar": {
              "outlinewidth": 0,
              "ticks": ""
             }
            },
            "marker": {
             "colorbar": {
              "outlinewidth": 0,
              "ticks": ""
             }
            },
            "type": "scatter3d"
           }
          ],
          "scattercarpet": [
           {
            "marker": {
             "colorbar": {
              "outlinewidth": 0,
              "ticks": ""
             }
            },
            "type": "scattercarpet"
           }
          ],
          "scattergeo": [
           {
            "marker": {
             "colorbar": {
              "outlinewidth": 0,
              "ticks": ""
             }
            },
            "type": "scattergeo"
           }
          ],
          "scattergl": [
           {
            "marker": {
             "colorbar": {
              "outlinewidth": 0,
              "ticks": ""
             }
            },
            "type": "scattergl"
           }
          ],
          "scattermapbox": [
           {
            "marker": {
             "colorbar": {
              "outlinewidth": 0,
              "ticks": ""
             }
            },
            "type": "scattermapbox"
           }
          ],
          "scatterpolar": [
           {
            "marker": {
             "colorbar": {
              "outlinewidth": 0,
              "ticks": ""
             }
            },
            "type": "scatterpolar"
           }
          ],
          "scatterpolargl": [
           {
            "marker": {
             "colorbar": {
              "outlinewidth": 0,
              "ticks": ""
             }
            },
            "type": "scatterpolargl"
           }
          ],
          "scatterternary": [
           {
            "marker": {
             "colorbar": {
              "outlinewidth": 0,
              "ticks": ""
             }
            },
            "type": "scatterternary"
           }
          ],
          "surface": [
           {
            "colorbar": {
             "outlinewidth": 0,
             "ticks": ""
            },
            "colorscale": [
             [
              0,
              "#0d0887"
             ],
             [
              0.1111111111111111,
              "#46039f"
             ],
             [
              0.2222222222222222,
              "#7201a8"
             ],
             [
              0.3333333333333333,
              "#9c179e"
             ],
             [
              0.4444444444444444,
              "#bd3786"
             ],
             [
              0.5555555555555556,
              "#d8576b"
             ],
             [
              0.6666666666666666,
              "#ed7953"
             ],
             [
              0.7777777777777778,
              "#fb9f3a"
             ],
             [
              0.8888888888888888,
              "#fdca26"
             ],
             [
              1,
              "#f0f921"
             ]
            ],
            "type": "surface"
           }
          ],
          "table": [
           {
            "cells": {
             "fill": {
              "color": "#EBF0F8"
             },
             "line": {
              "color": "white"
             }
            },
            "header": {
             "fill": {
              "color": "#C8D4E3"
             },
             "line": {
              "color": "white"
             }
            },
            "type": "table"
           }
          ]
         },
         "layout": {
          "annotationdefaults": {
           "arrowcolor": "#2a3f5f",
           "arrowhead": 0,
           "arrowwidth": 1
          },
          "autotypenumbers": "strict",
          "coloraxis": {
           "colorbar": {
            "outlinewidth": 0,
            "ticks": ""
           }
          },
          "colorscale": {
           "diverging": [
            [
             0,
             "#8e0152"
            ],
            [
             0.1,
             "#c51b7d"
            ],
            [
             0.2,
             "#de77ae"
            ],
            [
             0.3,
             "#f1b6da"
            ],
            [
             0.4,
             "#fde0ef"
            ],
            [
             0.5,
             "#f7f7f7"
            ],
            [
             0.6,
             "#e6f5d0"
            ],
            [
             0.7,
             "#b8e186"
            ],
            [
             0.8,
             "#7fbc41"
            ],
            [
             0.9,
             "#4d9221"
            ],
            [
             1,
             "#276419"
            ]
           ],
           "sequential": [
            [
             0,
             "#0d0887"
            ],
            [
             0.1111111111111111,
             "#46039f"
            ],
            [
             0.2222222222222222,
             "#7201a8"
            ],
            [
             0.3333333333333333,
             "#9c179e"
            ],
            [
             0.4444444444444444,
             "#bd3786"
            ],
            [
             0.5555555555555556,
             "#d8576b"
            ],
            [
             0.6666666666666666,
             "#ed7953"
            ],
            [
             0.7777777777777778,
             "#fb9f3a"
            ],
            [
             0.8888888888888888,
             "#fdca26"
            ],
            [
             1,
             "#f0f921"
            ]
           ],
           "sequentialminus": [
            [
             0,
             "#0d0887"
            ],
            [
             0.1111111111111111,
             "#46039f"
            ],
            [
             0.2222222222222222,
             "#7201a8"
            ],
            [
             0.3333333333333333,
             "#9c179e"
            ],
            [
             0.4444444444444444,
             "#bd3786"
            ],
            [
             0.5555555555555556,
             "#d8576b"
            ],
            [
             0.6666666666666666,
             "#ed7953"
            ],
            [
             0.7777777777777778,
             "#fb9f3a"
            ],
            [
             0.8888888888888888,
             "#fdca26"
            ],
            [
             1,
             "#f0f921"
            ]
           ]
          },
          "colorway": [
           "#636efa",
           "#EF553B",
           "#00cc96",
           "#ab63fa",
           "#FFA15A",
           "#19d3f3",
           "#FF6692",
           "#B6E880",
           "#FF97FF",
           "#FECB52"
          ],
          "font": {
           "color": "#2a3f5f"
          },
          "geo": {
           "bgcolor": "white",
           "lakecolor": "white",
           "landcolor": "#E5ECF6",
           "showlakes": true,
           "showland": true,
           "subunitcolor": "white"
          },
          "hoverlabel": {
           "align": "left"
          },
          "hovermode": "closest",
          "mapbox": {
           "style": "light"
          },
          "paper_bgcolor": "white",
          "plot_bgcolor": "#E5ECF6",
          "polar": {
           "angularaxis": {
            "gridcolor": "white",
            "linecolor": "white",
            "ticks": ""
           },
           "bgcolor": "#E5ECF6",
           "radialaxis": {
            "gridcolor": "white",
            "linecolor": "white",
            "ticks": ""
           }
          },
          "scene": {
           "xaxis": {
            "backgroundcolor": "#E5ECF6",
            "gridcolor": "white",
            "gridwidth": 2,
            "linecolor": "white",
            "showbackground": true,
            "ticks": "",
            "zerolinecolor": "white"
           },
           "yaxis": {
            "backgroundcolor": "#E5ECF6",
            "gridcolor": "white",
            "gridwidth": 2,
            "linecolor": "white",
            "showbackground": true,
            "ticks": "",
            "zerolinecolor": "white"
           },
           "zaxis": {
            "backgroundcolor": "#E5ECF6",
            "gridcolor": "white",
            "gridwidth": 2,
            "linecolor": "white",
            "showbackground": true,
            "ticks": "",
            "zerolinecolor": "white"
           }
          },
          "shapedefaults": {
           "line": {
            "color": "#2a3f5f"
           }
          },
          "ternary": {
           "aaxis": {
            "gridcolor": "white",
            "linecolor": "white",
            "ticks": ""
           },
           "baxis": {
            "gridcolor": "white",
            "linecolor": "white",
            "ticks": ""
           },
           "bgcolor": "#E5ECF6",
           "caxis": {
            "gridcolor": "white",
            "linecolor": "white",
            "ticks": ""
           }
          },
          "title": {
           "x": 0.05
          },
          "xaxis": {
           "automargin": true,
           "gridcolor": "white",
           "linecolor": "white",
           "ticks": "",
           "title": {
            "standoff": 15
           },
           "zerolinecolor": "white",
           "zerolinewidth": 2
          },
          "yaxis": {
           "automargin": true,
           "gridcolor": "white",
           "linecolor": "white",
           "ticks": "",
           "title": {
            "standoff": 15
           },
           "zerolinecolor": "white",
           "zerolinewidth": 2
          }
         }
        }
       }
      }
     },
     "metadata": {},
     "output_type": "display_data"
    }
   ],
   "source": [
    "view = go.Scatter(x=exp_task_switch['trialStartTime'], y=exp_task_switch['responseTime'], name= 'time')\n",
    "py.iplot([view])"
   ]
  },
  {
   "cell_type": "code",
   "execution_count": null,
   "metadata": {},
   "outputs": [],
   "source": []
  }
 ],
 "metadata": {
  "kernelspec": {
   "display_name": "Python 3.10.4 64-bit",
   "language": "python",
   "name": "python3"
  },
  "language_info": {
   "codemirror_mode": {
    "name": "ipython",
    "version": 3
   },
   "file_extension": ".py",
   "mimetype": "text/x-python",
   "name": "python",
   "nbconvert_exporter": "python",
   "pygments_lexer": "ipython3",
   "version": "3.10.4"
  },
  "orig_nbformat": 4,
  "vscode": {
   "interpreter": {
    "hash": "26de051ba29f2982a8de78e945f0abaf191376122a1563185a90213a26c5da77"
   }
  }
 },
 "nbformat": 4,
 "nbformat_minor": 2
}
